{
 "cells": [
  {
   "attachments": {},
   "cell_type": "markdown",
   "metadata": {
    "id": "7e4dFw4jvxAh"
   },
   "source": [
    "# 1. Life Modeling"
   ]
  },
  {
   "cell_type": "code",
   "execution_count": 23,
   "metadata": {
    "id": "iCRtoN0mvxAp"
   },
   "outputs": [],
   "source": [
    "import numpy as np\n",
    "import pandas as pd\n",
    "import matplotlib.pyplot as plt"
   ]
  },
  {
   "attachments": {},
   "cell_type": "markdown",
   "metadata": {
    "id": "IOhzRhUJvxAt"
   },
   "source": [
    "## Dataset Load"
   ]
  },
  {
   "cell_type": "code",
   "execution_count": 24,
   "metadata": {
    "id": "Eu923YJnvxAu"
   },
   "outputs": [],
   "source": [
    "df = pd.read_csv('new_dataset.csv')"
   ]
  },
  {
   "attachments": {},
   "cell_type": "markdown",
   "metadata": {
    "id": "TzG5C7WavxA3"
   },
   "source": [
    "## Preprocessing"
   ]
  },
  {
   "cell_type": "code",
   "execution_count": 25,
   "metadata": {
    "id": "kZAFuqLsvxAw"
   },
   "outputs": [],
   "source": [
    "df.drop('Unnamed: 0', axis=1, inplace=True)\n",
    "df = df.rename(columns={\"alchol\":\"alcohol\"})"
   ]
  },
  {
   "cell_type": "code",
   "execution_count": 26,
   "metadata": {
    "id": "0Fx5jhSbvxA4"
   },
   "outputs": [],
   "source": [
    "df['alcohol'] = df['alcohol'].apply(lambda x: 1 if x >= 1 else 0)\n",
    "df['smoke'] = df['smoke'].apply(lambda x: 1 if x >= 1 else 0)\n",
    "df['gym'] = df['gym'].apply(lambda x: 1 if x > 1 else 0)\n",
    "\n",
    "df['stress'] = df['stress'].apply(lambda x: 1 if x >= 3 else 0)\n",
    "df['walk'] = df['walk'].apply(lambda x: 1 if x >= 5 else 0)"
   ]
  },
  {
   "attachments": {},
   "cell_type": "markdown",
   "metadata": {
    "id": "mtGQyp72vxAz"
   },
   "source": [
    "## Columns 구분"
   ]
  },
  {
   "cell_type": "code",
   "execution_count": 27,
   "metadata": {
    "id": "bfLIEFBBvxA0"
   },
   "outputs": [],
   "source": [
    "# 생활습관에 관련된 columns\n",
    "# 성별, 나이, 음주빈도, 평소 스트레스인지 정도, 하루평균 일반담배(궐련) 흡연량,\n",
    "# 1주일간 걷기 일수, 1주일간 근력운동일수, 허리둘레, 중성지방, HDL 고밀도 지방\n",
    "# 최종 수축기 혈압, 최종 이완기 혈압, 공복혈당, 주중 수면 시간, 주말 수면 시간\n",
    "life_col = ['sex', 'age', 'alcohol', 'stress', 'smoke', 'walk', 'gym', 'time_w', 'time_wk']"
   ]
  },
  {
   "cell_type": "code",
   "execution_count": 28,
   "metadata": {
    "id": "IBfZORxpvxA2"
   },
   "outputs": [],
   "source": [
    "# 대서성 증후군의 판단 기준이 되는 columns: 허리둘레, 중성지방, 고밀도 지방, 최종 수축기 혈압, 최종 이완기 혈압, 공복혈당\n",
    "# 수축기 혈압 130mmHg 이상 또는 이완기 혈압 85mmHg 이상인 경우이므로 수축기 혈압과 이완기 혈압 모두 columns에 포함\n",
    "meta_col = ['waist', 'colesterol_m', 'colesterol_h', 'contraction', 'relaxation', 'bloodsugar', 'metabolic']"
   ]
  },
  {
   "cell_type": "code",
   "execution_count": 29,
   "metadata": {
    "id": "NyCu9lZTvxA2",
    "outputId": "bccb33f2-927e-4670-d378-f9a8445e97f4"
   },
   "outputs": [],
   "source": [
    "# 영양소에 관련된 columns\n",
    "# 에너지, 물, 단백질 등등\n",
    "nutri_col = ['energy', 'water', 'protein', 'fat', 'sa_fat',\n",
    "       'mono_unsa_fat', 'poly_unsa_fat', 'n3_fat', 'n6_fat',\n",
    "       'colesterol_total', 'carbohydrate', 'dietary_fiber', 'sugar', 'calcium',\n",
    "       'phosphorus', 'natrium', 'kalium', 'magnesium', 'iron', 'zinc',\n",
    "       'vitamin_a', 'vitamin_D', 'vitamin_e', 'carotene',\n",
    "       'bitamin_b1', 'bitamin_b2', 'vitamin_b3', 'vitamin_b9', 'vitamin_c']"
   ]
  },
  {
   "attachments": {},
   "cell_type": "markdown",
   "metadata": {
    "id": "rSZ1MY0DvxA5"
   },
   "source": [
    "## Training Set and Test Set\n",
    "- Column을 나눔: 생활습관 관련, 대사성 증후군 관련, 영양소 관련\n",
    "- 대사성 증후군의 판단 기준이 되는 columns을 사용하여 대사성 증후군을 예측했기 때문에 meta_col은 모델링에 필요 없는 columns\n",
    "- X, y로 나누고 train set과 test set으로 분리\n",
    "- 필요하다면 test set을 test set과 valid set으로 분리 가능"
   ]
  },
  {
   "cell_type": "code",
   "execution_count": 30,
   "metadata": {
    "id": "eprxxENxvxA5"
   },
   "outputs": [],
   "source": [
    "X = df[life_col]\n",
    "y = df['metabolic'] # target"
   ]
  },
  {
   "cell_type": "code",
   "execution_count": 31,
   "metadata": {
    "id": "BEwtTmdpvxA5"
   },
   "outputs": [],
   "source": [
    "# train_test_split에서 stratify는 분류(classification)를 다룰 때 매우 중요한 옵션값, stratify 값을 target으로 지정하면 각각의 class 비율(ratio)을 train / validation에 유지(한 쪽에 쏠려서 분배되는 것을 방지\n",
    "# 만약 이 옵션을 지정하지 않고 분류(classification) 문제를 다루면, 성능의 차이가 많이 날 가능성 높음\n",
    "# 현재 Dataset에서 대사성 증후군인 사람과 아닌 사람의 비율 = 1:4\n",
    "# 이 비율 그대로 train, test 분리\n",
    "from sklearn.model_selection import train_test_split\n",
    "X_train, X_test, y_train, y_test = train_test_split(X, y, test_size=0.2, random_state=123, stratify=y)"
   ]
  },
  {
   "attachments": {},
   "cell_type": "markdown",
   "metadata": {
    "id": "tSiKgLMsvxA6"
   },
   "source": [
    "## Feature Scaling\n",
    "- 수업 시간에 배운 표준화(Standardization)과 정규화(Normalization)을 적용 가능\n",
    "- Decision Tree는 규칙에 대해 학습하는 것이므로 성능의 차이 없음"
   ]
  },
  {
   "cell_type": "code",
   "execution_count": 32,
   "metadata": {
    "id": "fJOo1p02vxA7"
   },
   "outputs": [],
   "source": [
    "from sklearn.preprocessing import StandardScaler, MinMaxScaler"
   ]
  },
  {
   "cell_type": "code",
   "execution_count": 33,
   "metadata": {
    "id": "CPmCP7WMvxA7"
   },
   "outputs": [],
   "source": [
    "# 표준화\n",
    "scaler = StandardScaler()\n",
    "X_train = scaler.fit_transform(X_train)\n",
    "X_test = scaler.transform(X_test)"
   ]
  },
  {
   "cell_type": "code",
   "execution_count": 34,
   "metadata": {
    "id": "UDSWJfjgvxA8"
   },
   "outputs": [],
   "source": [
    "# 정규화\n",
    "# scaler = MinMaxScaler()\n",
    "# X_train = scaler.fit_transform(X_train)\n",
    "# X_test = scaler.transform(X_test)"
   ]
  },
  {
   "attachments": {},
   "cell_type": "markdown",
   "metadata": {
    "id": "n24CVzDqvxA8"
   },
   "source": [
    "## 1st Model - Decision Tree"
   ]
  },
  {
   "cell_type": "code",
   "execution_count": 35,
   "metadata": {
    "id": "dWSXMe61vxA9"
   },
   "outputs": [],
   "source": [
    "from sklearn.model_selection import cross_val_score\n",
    "from sklearn.metrics import confusion_matrix\n",
    "from sklearn.metrics import accuracy_score, precision_score, recall_score, f1_score\n",
    "from sklearn.metrics import roc_curve, roc_auc_score"
   ]
  },
  {
   "cell_type": "code",
   "execution_count": 36,
   "metadata": {
    "id": "JerMoaPpvxA-"
   },
   "outputs": [],
   "source": [
    "from sklearn.pipeline import make_pipeline, Pipeline\n",
    "from sklearn.model_selection import cross_validate, GridSearchCV\n",
    "import multiprocessing"
   ]
  },
  {
   "attachments": {},
   "cell_type": "markdown",
   "metadata": {
    "id": "B8O2_wFpvxA_"
   },
   "source": [
    "### SMOTE 적용"
   ]
  },
  {
   "cell_type": "code",
   "execution_count": 37,
   "metadata": {
    "id": "QMi67_bSvxA_"
   },
   "outputs": [],
   "source": [
    "from sklearn.datasets import make_classification\n",
    "from sklearn.decomposition import PCA\n",
    "from imblearn.over_sampling import SMOTE"
   ]
  },
  {
   "cell_type": "code",
   "execution_count": 38,
   "metadata": {
    "id": "3VdIH0jdvxBA",
    "outputId": "ddd30e3c-1bc1-49a4-c6ce-b31bdfd63f81"
   },
   "outputs": [
    {
     "name": "stdout",
     "output_type": "stream",
     "text": [
      "SMOTE 적용 전 학습용 피처/레이블 데이터 세트 :  (6305, 9) (6305,)\n",
      "SMOTE 적용 후 학습용 피처/레이블 데이터 세트 : (10248, 9) (10248,)\n",
      "SMOTE 적용 후 값의 분포 :\n",
      " 1    5124\n",
      "0    5124\n",
      "Name: metabolic, dtype: int64\n"
     ]
    }
   ],
   "source": [
    "smote = SMOTE(random_state=42)\n",
    "X_train_over, y_train_over = smote.fit_resample(X_train, y_train)\n",
    "print(\"SMOTE 적용 전 학습용 피처/레이블 데이터 세트 : \", X_train.shape, y_train.shape)\n",
    "print('SMOTE 적용 후 학습용 피처/레이블 데이터 세트 :', X_train_over.shape, y_train_over.shape)\n",
    "print('SMOTE 적용 후 값의 분포 :\\n',pd.Series(y_train_over).value_counts() )"
   ]
  },
  {
   "attachments": {},
   "cell_type": "markdown",
   "metadata": {
    "id": "8vNnmBYVvxBA"
   },
   "source": [
    "### Parameter 수정\n",
    "DecisionTreeClassifier()의 parameters\n",
    "1. criterion: “gini”, “entropy”, “log_loss”\n",
    " - default: ”gini”\n",
    "2. splitter: “best”, “random”\n",
    " - defalut: ”best”\n",
    "3. max_depth: integer\n",
    " - 트리의 최대 깊이\n",
    " - defalut: None → 완벽하게 클래스 값이 결정될 때 까지 분할\n",
    " - 깊이가 깊어지면 과적합될 수 있으므로 적절히 제어 필요\n",
    "4. min_samples_split: integer or float\n",
    " - 노드를 분할하기 위한 최소한의 샘플 데이터수\n",
    " - default: 2 → 작게 설정할 수록 분할 노드가 많아져 과적합 가능성 증가\n",
    "5. min_samples_leaf: integer or float\n",
    " - 리프노드가 되기 위해 필요한 최소한의 샘플 데이터수\n",
    " - 불균형 데이터의 경우 특정 클래스의 데이터가 극도로 작을 수 있으므로 작게 설정 필요\n",
    " - default: 2\n",
    "6. max_features: “auto”, “sqrt”, “log2”\n",
    " - 최적의 분할을 위해 고려할 최대 feature 개수\n",
    " - default: None → 데이터 세트의 모든 피처를 사용\n",
    " - int형으로 지정 →피처 갯수 / float형으로 지정 →비중\n",
    " - sqrt 또는 auto : 전체 피처 중 √(피처개수) 만큼 선정\n",
    " - log2 : 전체 피처 중 log2(전체 피처 개수) 만큼 선정\n",
    "7. max_leaf_nodes: integer\n",
    " - 리프노드의 최대 개수\n",
    " - defalut: None\n",
    "8. min_impurity_decrease: float\n",
    " - default: 0.0\n",
    "9. min_weight_fraction_leaf: float,\n",
    " - default: 0.0\n",
    "\n",
    "3, 4, 5, 6, 7번 Parameter가 중요하므로 이 위주로 수정\n",
    "\n",
    "출처: https://scikit-learn.org/stable/modules/generated/sklearn.tree.DecisionTreeClassifier.html"
   ]
  },
  {
   "cell_type": "code",
   "execution_count": 39,
   "metadata": {
    "id": "tv8YjQzuvxA-"
   },
   "outputs": [],
   "source": [
    "from sklearn import tree\n",
    "from sklearn.tree import DecisionTreeClassifier"
   ]
  },
  {
   "cell_type": "code",
   "execution_count": 40,
   "metadata": {
    "id": "5CiDElVdvxBB",
    "outputId": "19eff9a7-2b29-47f4-a924-d7a2ec8f72e5"
   },
   "outputs": [
    {
     "data": {
      "text/html": [
       "<style>#sk-container-id-2 {color: black;background-color: white;}#sk-container-id-2 pre{padding: 0;}#sk-container-id-2 div.sk-toggleable {background-color: white;}#sk-container-id-2 label.sk-toggleable__label {cursor: pointer;display: block;width: 100%;margin-bottom: 0;padding: 0.3em;box-sizing: border-box;text-align: center;}#sk-container-id-2 label.sk-toggleable__label-arrow:before {content: \"▸\";float: left;margin-right: 0.25em;color: #696969;}#sk-container-id-2 label.sk-toggleable__label-arrow:hover:before {color: black;}#sk-container-id-2 div.sk-estimator:hover label.sk-toggleable__label-arrow:before {color: black;}#sk-container-id-2 div.sk-toggleable__content {max-height: 0;max-width: 0;overflow: hidden;text-align: left;background-color: #f0f8ff;}#sk-container-id-2 div.sk-toggleable__content pre {margin: 0.2em;color: black;border-radius: 0.25em;background-color: #f0f8ff;}#sk-container-id-2 input.sk-toggleable__control:checked~div.sk-toggleable__content {max-height: 200px;max-width: 100%;overflow: auto;}#sk-container-id-2 input.sk-toggleable__control:checked~label.sk-toggleable__label-arrow:before {content: \"▾\";}#sk-container-id-2 div.sk-estimator input.sk-toggleable__control:checked~label.sk-toggleable__label {background-color: #d4ebff;}#sk-container-id-2 div.sk-label input.sk-toggleable__control:checked~label.sk-toggleable__label {background-color: #d4ebff;}#sk-container-id-2 input.sk-hidden--visually {border: 0;clip: rect(1px 1px 1px 1px);clip: rect(1px, 1px, 1px, 1px);height: 1px;margin: -1px;overflow: hidden;padding: 0;position: absolute;width: 1px;}#sk-container-id-2 div.sk-estimator {font-family: monospace;background-color: #f0f8ff;border: 1px dotted black;border-radius: 0.25em;box-sizing: border-box;margin-bottom: 0.5em;}#sk-container-id-2 div.sk-estimator:hover {background-color: #d4ebff;}#sk-container-id-2 div.sk-parallel-item::after {content: \"\";width: 100%;border-bottom: 1px solid gray;flex-grow: 1;}#sk-container-id-2 div.sk-label:hover label.sk-toggleable__label {background-color: #d4ebff;}#sk-container-id-2 div.sk-serial::before {content: \"\";position: absolute;border-left: 1px solid gray;box-sizing: border-box;top: 0;bottom: 0;left: 50%;z-index: 0;}#sk-container-id-2 div.sk-serial {display: flex;flex-direction: column;align-items: center;background-color: white;padding-right: 0.2em;padding-left: 0.2em;position: relative;}#sk-container-id-2 div.sk-item {position: relative;z-index: 1;}#sk-container-id-2 div.sk-parallel {display: flex;align-items: stretch;justify-content: center;background-color: white;position: relative;}#sk-container-id-2 div.sk-item::before, #sk-container-id-2 div.sk-parallel-item::before {content: \"\";position: absolute;border-left: 1px solid gray;box-sizing: border-box;top: 0;bottom: 0;left: 50%;z-index: -1;}#sk-container-id-2 div.sk-parallel-item {display: flex;flex-direction: column;z-index: 1;position: relative;background-color: white;}#sk-container-id-2 div.sk-parallel-item:first-child::after {align-self: flex-end;width: 50%;}#sk-container-id-2 div.sk-parallel-item:last-child::after {align-self: flex-start;width: 50%;}#sk-container-id-2 div.sk-parallel-item:only-child::after {width: 0;}#sk-container-id-2 div.sk-dashed-wrapped {border: 1px dashed gray;margin: 0 0.4em 0.5em 0.4em;box-sizing: border-box;padding-bottom: 0.4em;background-color: white;}#sk-container-id-2 div.sk-label label {font-family: monospace;font-weight: bold;display: inline-block;line-height: 1.2em;}#sk-container-id-2 div.sk-label-container {text-align: center;}#sk-container-id-2 div.sk-container {/* jupyter's `normalize.less` sets `[hidden] { display: none; }` but bootstrap.min.css set `[hidden] { display: none !important; }` so we also need the `!important` here to be able to override the default hidden behavior on the sphinx rendered scikit-learn.org. See: https://github.com/scikit-learn/scikit-learn/issues/21755 */display: inline-block !important;position: relative;}#sk-container-id-2 div.sk-text-repr-fallback {display: none;}</style><div id=\"sk-container-id-2\" class=\"sk-top-container\"><div class=\"sk-text-repr-fallback\"><pre>GridSearchCV(cv=5, estimator=DecisionTreeClassifier(), n_jobs=8,\n",
       "             param_grid=[{&#x27;criterion&#x27;: [&#x27;gini&#x27;, &#x27;entropy&#x27;],\n",
       "                          &#x27;max_depth&#x27;: [6, 8, 10, 12],\n",
       "                          &#x27;max_features&#x27;: [&#x27;auto&#x27;, &#x27;sqrt&#x27;, &#x27;log2&#x27;],\n",
       "                          &#x27;min_samples_leaf&#x27;: [2, 3, 4, 5, 6, 7, 8],\n",
       "                          &#x27;min_samples_split&#x27;: [6, 8, 10, 12, 14]}],\n",
       "             scoring=&#x27;recall&#x27;)</pre><b>In a Jupyter environment, please rerun this cell to show the HTML representation or trust the notebook. <br />On GitHub, the HTML representation is unable to render, please try loading this page with nbviewer.org.</b></div><div class=\"sk-container\" hidden><div class=\"sk-item sk-dashed-wrapped\"><div class=\"sk-label-container\"><div class=\"sk-label sk-toggleable\"><input class=\"sk-toggleable__control sk-hidden--visually\" id=\"sk-estimator-id-4\" type=\"checkbox\" ><label for=\"sk-estimator-id-4\" class=\"sk-toggleable__label sk-toggleable__label-arrow\">GridSearchCV</label><div class=\"sk-toggleable__content\"><pre>GridSearchCV(cv=5, estimator=DecisionTreeClassifier(), n_jobs=8,\n",
       "             param_grid=[{&#x27;criterion&#x27;: [&#x27;gini&#x27;, &#x27;entropy&#x27;],\n",
       "                          &#x27;max_depth&#x27;: [6, 8, 10, 12],\n",
       "                          &#x27;max_features&#x27;: [&#x27;auto&#x27;, &#x27;sqrt&#x27;, &#x27;log2&#x27;],\n",
       "                          &#x27;min_samples_leaf&#x27;: [2, 3, 4, 5, 6, 7, 8],\n",
       "                          &#x27;min_samples_split&#x27;: [6, 8, 10, 12, 14]}],\n",
       "             scoring=&#x27;recall&#x27;)</pre></div></div></div><div class=\"sk-parallel\"><div class=\"sk-parallel-item\"><div class=\"sk-item\"><div class=\"sk-label-container\"><div class=\"sk-label sk-toggleable\"><input class=\"sk-toggleable__control sk-hidden--visually\" id=\"sk-estimator-id-5\" type=\"checkbox\" ><label for=\"sk-estimator-id-5\" class=\"sk-toggleable__label sk-toggleable__label-arrow\">estimator: DecisionTreeClassifier</label><div class=\"sk-toggleable__content\"><pre>DecisionTreeClassifier()</pre></div></div></div><div class=\"sk-serial\"><div class=\"sk-item\"><div class=\"sk-estimator sk-toggleable\"><input class=\"sk-toggleable__control sk-hidden--visually\" id=\"sk-estimator-id-6\" type=\"checkbox\" ><label for=\"sk-estimator-id-6\" class=\"sk-toggleable__label sk-toggleable__label-arrow\">DecisionTreeClassifier</label><div class=\"sk-toggleable__content\"><pre>DecisionTreeClassifier()</pre></div></div></div></div></div></div></div></div></div></div>"
      ],
      "text/plain": [
       "GridSearchCV(cv=5, estimator=DecisionTreeClassifier(), n_jobs=8,\n",
       "             param_grid=[{'criterion': ['gini', 'entropy'],\n",
       "                          'max_depth': [6, 8, 10, 12],\n",
       "                          'max_features': ['auto', 'sqrt', 'log2'],\n",
       "                          'min_samples_leaf': [2, 3, 4, 5, 6, 7, 8],\n",
       "                          'min_samples_split': [6, 8, 10, 12, 14]}],\n",
       "             scoring='recall')"
      ]
     },
     "execution_count": 40,
     "metadata": {},
     "output_type": "execute_result"
    }
   ],
   "source": [
    "dt = DecisionTreeClassifier()\n",
    "\n",
    "param_grid = [{'criterion':[\"gini\",\"entropy\"],'max_depth':[6,8,10,12],'min_samples_split':[6,8,10,12,14], 'min_samples_leaf':[2,3,4,5,6,7,8],\n",
    "               'max_features':[\"auto\", \"sqrt\", \"log2\"]}]\n",
    "\n",
    "gs = GridSearchCV(\n",
    "    estimator=dt,\n",
    "    param_grid=param_grid,\n",
    "    scoring='recall',\n",
    "    cv=5,\n",
    "    n_jobs=multiprocessing.cpu_count())\n",
    "gs"
   ]
  },
  {
   "cell_type": "code",
   "execution_count": 41,
   "metadata": {
    "id": "9j72RpS4vxBC",
    "outputId": "5604389a-82d5-410c-f32e-26bfb709256f"
   },
   "outputs": [
    {
     "name": "stdout",
     "output_type": "stream",
     "text": [
      "DecisionTreeClassifier(max_depth=12, max_features='auto', min_samples_leaf=2,\n",
      "                       min_samples_split=12)\n",
      "최고 평균 재현율(Recall): 0.7513791920731707\n",
      "최적 파라미터: {'criterion': 'gini', 'max_depth': 12, 'max_features': 'auto', 'min_samples_leaf': 2, 'min_samples_split': 12}\n"
     ]
    },
    {
     "name": "stderr",
     "output_type": "stream",
     "text": [
      "C:\\Users\\82104\\AppData\\Roaming\\Python\\Python38\\site-packages\\sklearn\\tree\\_classes.py:269: FutureWarning: `max_features='auto'` has been deprecated in 1.1 and will be removed in 1.3. To keep the past behaviour, explicitly set `max_features='sqrt'`.\n",
      "  warnings.warn(\n"
     ]
    },
    {
     "data": {
      "text/html": [
       "<div>\n",
       "<style scoped>\n",
       "    .dataframe tbody tr th:only-of-type {\n",
       "        vertical-align: middle;\n",
       "    }\n",
       "\n",
       "    .dataframe tbody tr th {\n",
       "        vertical-align: top;\n",
       "    }\n",
       "\n",
       "    .dataframe thead th {\n",
       "        text-align: right;\n",
       "    }\n",
       "</style>\n",
       "<table border=\"1\" class=\"dataframe\">\n",
       "  <thead>\n",
       "    <tr style=\"text-align: right;\">\n",
       "      <th></th>\n",
       "      <th>mean_fit_time</th>\n",
       "      <th>std_fit_time</th>\n",
       "      <th>mean_score_time</th>\n",
       "      <th>std_score_time</th>\n",
       "      <th>param_criterion</th>\n",
       "      <th>param_max_depth</th>\n",
       "      <th>param_max_features</th>\n",
       "      <th>param_min_samples_leaf</th>\n",
       "      <th>param_min_samples_split</th>\n",
       "      <th>params</th>\n",
       "      <th>split0_test_score</th>\n",
       "      <th>split1_test_score</th>\n",
       "      <th>split2_test_score</th>\n",
       "      <th>split3_test_score</th>\n",
       "      <th>split4_test_score</th>\n",
       "      <th>mean_test_score</th>\n",
       "      <th>std_test_score</th>\n",
       "      <th>rank_test_score</th>\n",
       "    </tr>\n",
       "  </thead>\n",
       "  <tbody>\n",
       "    <tr>\n",
       "      <th>0</th>\n",
       "      <td>0.021542</td>\n",
       "      <td>0.006692</td>\n",
       "      <td>0.009773</td>\n",
       "      <td>0.005179</td>\n",
       "      <td>gini</td>\n",
       "      <td>6</td>\n",
       "      <td>auto</td>\n",
       "      <td>2</td>\n",
       "      <td>6</td>\n",
       "      <td>{'criterion': 'gini', 'max_depth': 6, 'max_fea...</td>\n",
       "      <td>0.513171</td>\n",
       "      <td>0.818537</td>\n",
       "      <td>0.548293</td>\n",
       "      <td>0.684878</td>\n",
       "      <td>0.666992</td>\n",
       "      <td>0.646374</td>\n",
       "      <td>0.108546</td>\n",
       "      <td>684</td>\n",
       "    </tr>\n",
       "    <tr>\n",
       "      <th>1</th>\n",
       "      <td>0.019349</td>\n",
       "      <td>0.010221</td>\n",
       "      <td>0.006582</td>\n",
       "      <td>0.001017</td>\n",
       "      <td>gini</td>\n",
       "      <td>6</td>\n",
       "      <td>auto</td>\n",
       "      <td>2</td>\n",
       "      <td>8</td>\n",
       "      <td>{'criterion': 'gini', 'max_depth': 6, 'max_fea...</td>\n",
       "      <td>0.668293</td>\n",
       "      <td>0.646829</td>\n",
       "      <td>0.648780</td>\n",
       "      <td>0.637073</td>\n",
       "      <td>0.610352</td>\n",
       "      <td>0.642265</td>\n",
       "      <td>0.018901</td>\n",
       "      <td>707</td>\n",
       "    </tr>\n",
       "    <tr>\n",
       "      <th>2</th>\n",
       "      <td>0.027726</td>\n",
       "      <td>0.018232</td>\n",
       "      <td>0.013166</td>\n",
       "      <td>0.011023</td>\n",
       "      <td>gini</td>\n",
       "      <td>6</td>\n",
       "      <td>auto</td>\n",
       "      <td>2</td>\n",
       "      <td>10</td>\n",
       "      <td>{'criterion': 'gini', 'max_depth': 6, 'max_fea...</td>\n",
       "      <td>0.618537</td>\n",
       "      <td>0.673171</td>\n",
       "      <td>0.649756</td>\n",
       "      <td>0.714146</td>\n",
       "      <td>0.618164</td>\n",
       "      <td>0.654755</td>\n",
       "      <td>0.036172</td>\n",
       "      <td>621</td>\n",
       "    </tr>\n",
       "    <tr>\n",
       "      <th>3</th>\n",
       "      <td>0.019748</td>\n",
       "      <td>0.008113</td>\n",
       "      <td>0.007579</td>\n",
       "      <td>0.002863</td>\n",
       "      <td>gini</td>\n",
       "      <td>6</td>\n",
       "      <td>auto</td>\n",
       "      <td>2</td>\n",
       "      <td>12</td>\n",
       "      <td>{'criterion': 'gini', 'max_depth': 6, 'max_fea...</td>\n",
       "      <td>0.602927</td>\n",
       "      <td>0.620488</td>\n",
       "      <td>0.674146</td>\n",
       "      <td>0.702439</td>\n",
       "      <td>0.746094</td>\n",
       "      <td>0.669219</td>\n",
       "      <td>0.052549</td>\n",
       "      <td>496</td>\n",
       "    </tr>\n",
       "    <tr>\n",
       "      <th>4</th>\n",
       "      <td>0.020346</td>\n",
       "      <td>0.006232</td>\n",
       "      <td>0.006183</td>\n",
       "      <td>0.000399</td>\n",
       "      <td>gini</td>\n",
       "      <td>6</td>\n",
       "      <td>auto</td>\n",
       "      <td>2</td>\n",
       "      <td>14</td>\n",
       "      <td>{'criterion': 'gini', 'max_depth': 6, 'max_fea...</td>\n",
       "      <td>0.585366</td>\n",
       "      <td>0.677073</td>\n",
       "      <td>0.674146</td>\n",
       "      <td>0.678049</td>\n",
       "      <td>0.624023</td>\n",
       "      <td>0.647732</td>\n",
       "      <td>0.037227</td>\n",
       "      <td>675</td>\n",
       "    </tr>\n",
       "    <tr>\n",
       "      <th>...</th>\n",
       "      <td>...</td>\n",
       "      <td>...</td>\n",
       "      <td>...</td>\n",
       "      <td>...</td>\n",
       "      <td>...</td>\n",
       "      <td>...</td>\n",
       "      <td>...</td>\n",
       "      <td>...</td>\n",
       "      <td>...</td>\n",
       "      <td>...</td>\n",
       "      <td>...</td>\n",
       "      <td>...</td>\n",
       "      <td>...</td>\n",
       "      <td>...</td>\n",
       "      <td>...</td>\n",
       "      <td>...</td>\n",
       "      <td>...</td>\n",
       "      <td>...</td>\n",
       "    </tr>\n",
       "    <tr>\n",
       "      <th>835</th>\n",
       "      <td>0.026130</td>\n",
       "      <td>0.003241</td>\n",
       "      <td>0.010372</td>\n",
       "      <td>0.003710</td>\n",
       "      <td>entropy</td>\n",
       "      <td>12</td>\n",
       "      <td>log2</td>\n",
       "      <td>8</td>\n",
       "      <td>6</td>\n",
       "      <td>{'criterion': 'entropy', 'max_depth': 12, 'max...</td>\n",
       "      <td>0.587317</td>\n",
       "      <td>0.729756</td>\n",
       "      <td>0.764878</td>\n",
       "      <td>0.764878</td>\n",
       "      <td>0.739258</td>\n",
       "      <td>0.717217</td>\n",
       "      <td>0.066423</td>\n",
       "      <td>32</td>\n",
       "    </tr>\n",
       "    <tr>\n",
       "      <th>836</th>\n",
       "      <td>0.033509</td>\n",
       "      <td>0.011119</td>\n",
       "      <td>0.022140</td>\n",
       "      <td>0.026233</td>\n",
       "      <td>entropy</td>\n",
       "      <td>12</td>\n",
       "      <td>log2</td>\n",
       "      <td>8</td>\n",
       "      <td>8</td>\n",
       "      <td>{'criterion': 'entropy', 'max_depth': 12, 'max...</td>\n",
       "      <td>0.466341</td>\n",
       "      <td>0.683902</td>\n",
       "      <td>0.800976</td>\n",
       "      <td>0.753171</td>\n",
       "      <td>0.763672</td>\n",
       "      <td>0.693612</td>\n",
       "      <td>0.119774</td>\n",
       "      <td>251</td>\n",
       "    </tr>\n",
       "    <tr>\n",
       "      <th>837</th>\n",
       "      <td>0.022938</td>\n",
       "      <td>0.004370</td>\n",
       "      <td>0.006982</td>\n",
       "      <td>0.001784</td>\n",
       "      <td>entropy</td>\n",
       "      <td>12</td>\n",
       "      <td>log2</td>\n",
       "      <td>8</td>\n",
       "      <td>10</td>\n",
       "      <td>{'criterion': 'entropy', 'max_depth': 12, 'max...</td>\n",
       "      <td>0.588293</td>\n",
       "      <td>0.744390</td>\n",
       "      <td>0.732683</td>\n",
       "      <td>0.732683</td>\n",
       "      <td>0.785156</td>\n",
       "      <td>0.716641</td>\n",
       "      <td>0.067011</td>\n",
       "      <td>35</td>\n",
       "    </tr>\n",
       "    <tr>\n",
       "      <th>838</th>\n",
       "      <td>0.029322</td>\n",
       "      <td>0.002721</td>\n",
       "      <td>0.007579</td>\n",
       "      <td>0.000798</td>\n",
       "      <td>entropy</td>\n",
       "      <td>12</td>\n",
       "      <td>log2</td>\n",
       "      <td>8</td>\n",
       "      <td>12</td>\n",
       "      <td>{'criterion': 'entropy', 'max_depth': 12, 'max...</td>\n",
       "      <td>0.504390</td>\n",
       "      <td>0.691707</td>\n",
       "      <td>0.797073</td>\n",
       "      <td>0.766829</td>\n",
       "      <td>0.757812</td>\n",
       "      <td>0.703562</td>\n",
       "      <td>0.105357</td>\n",
       "      <td>140</td>\n",
       "    </tr>\n",
       "    <tr>\n",
       "      <th>839</th>\n",
       "      <td>0.028923</td>\n",
       "      <td>0.006463</td>\n",
       "      <td>0.005985</td>\n",
       "      <td>0.000893</td>\n",
       "      <td>entropy</td>\n",
       "      <td>12</td>\n",
       "      <td>log2</td>\n",
       "      <td>8</td>\n",
       "      <td>14</td>\n",
       "      <td>{'criterion': 'entropy', 'max_depth': 12, 'max...</td>\n",
       "      <td>0.519024</td>\n",
       "      <td>0.707317</td>\n",
       "      <td>0.753171</td>\n",
       "      <td>0.717073</td>\n",
       "      <td>0.726562</td>\n",
       "      <td>0.684630</td>\n",
       "      <td>0.084201</td>\n",
       "      <td>343</td>\n",
       "    </tr>\n",
       "  </tbody>\n",
       "</table>\n",
       "<p>840 rows × 18 columns</p>\n",
       "</div>"
      ],
      "text/plain": [
       "     mean_fit_time  std_fit_time  mean_score_time  std_score_time  \\\n",
       "0         0.021542      0.006692         0.009773        0.005179   \n",
       "1         0.019349      0.010221         0.006582        0.001017   \n",
       "2         0.027726      0.018232         0.013166        0.011023   \n",
       "3         0.019748      0.008113         0.007579        0.002863   \n",
       "4         0.020346      0.006232         0.006183        0.000399   \n",
       "..             ...           ...              ...             ...   \n",
       "835       0.026130      0.003241         0.010372        0.003710   \n",
       "836       0.033509      0.011119         0.022140        0.026233   \n",
       "837       0.022938      0.004370         0.006982        0.001784   \n",
       "838       0.029322      0.002721         0.007579        0.000798   \n",
       "839       0.028923      0.006463         0.005985        0.000893   \n",
       "\n",
       "    param_criterion param_max_depth param_max_features param_min_samples_leaf  \\\n",
       "0              gini               6               auto                      2   \n",
       "1              gini               6               auto                      2   \n",
       "2              gini               6               auto                      2   \n",
       "3              gini               6               auto                      2   \n",
       "4              gini               6               auto                      2   \n",
       "..              ...             ...                ...                    ...   \n",
       "835         entropy              12               log2                      8   \n",
       "836         entropy              12               log2                      8   \n",
       "837         entropy              12               log2                      8   \n",
       "838         entropy              12               log2                      8   \n",
       "839         entropy              12               log2                      8   \n",
       "\n",
       "    param_min_samples_split  \\\n",
       "0                         6   \n",
       "1                         8   \n",
       "2                        10   \n",
       "3                        12   \n",
       "4                        14   \n",
       "..                      ...   \n",
       "835                       6   \n",
       "836                       8   \n",
       "837                      10   \n",
       "838                      12   \n",
       "839                      14   \n",
       "\n",
       "                                                params  split0_test_score  \\\n",
       "0    {'criterion': 'gini', 'max_depth': 6, 'max_fea...           0.513171   \n",
       "1    {'criterion': 'gini', 'max_depth': 6, 'max_fea...           0.668293   \n",
       "2    {'criterion': 'gini', 'max_depth': 6, 'max_fea...           0.618537   \n",
       "3    {'criterion': 'gini', 'max_depth': 6, 'max_fea...           0.602927   \n",
       "4    {'criterion': 'gini', 'max_depth': 6, 'max_fea...           0.585366   \n",
       "..                                                 ...                ...   \n",
       "835  {'criterion': 'entropy', 'max_depth': 12, 'max...           0.587317   \n",
       "836  {'criterion': 'entropy', 'max_depth': 12, 'max...           0.466341   \n",
       "837  {'criterion': 'entropy', 'max_depth': 12, 'max...           0.588293   \n",
       "838  {'criterion': 'entropy', 'max_depth': 12, 'max...           0.504390   \n",
       "839  {'criterion': 'entropy', 'max_depth': 12, 'max...           0.519024   \n",
       "\n",
       "     split1_test_score  split2_test_score  split3_test_score  \\\n",
       "0             0.818537           0.548293           0.684878   \n",
       "1             0.646829           0.648780           0.637073   \n",
       "2             0.673171           0.649756           0.714146   \n",
       "3             0.620488           0.674146           0.702439   \n",
       "4             0.677073           0.674146           0.678049   \n",
       "..                 ...                ...                ...   \n",
       "835           0.729756           0.764878           0.764878   \n",
       "836           0.683902           0.800976           0.753171   \n",
       "837           0.744390           0.732683           0.732683   \n",
       "838           0.691707           0.797073           0.766829   \n",
       "839           0.707317           0.753171           0.717073   \n",
       "\n",
       "     split4_test_score  mean_test_score  std_test_score  rank_test_score  \n",
       "0             0.666992         0.646374        0.108546              684  \n",
       "1             0.610352         0.642265        0.018901              707  \n",
       "2             0.618164         0.654755        0.036172              621  \n",
       "3             0.746094         0.669219        0.052549              496  \n",
       "4             0.624023         0.647732        0.037227              675  \n",
       "..                 ...              ...             ...              ...  \n",
       "835           0.739258         0.717217        0.066423               32  \n",
       "836           0.763672         0.693612        0.119774              251  \n",
       "837           0.785156         0.716641        0.067011               35  \n",
       "838           0.757812         0.703562        0.105357              140  \n",
       "839           0.726562         0.684630        0.084201              343  \n",
       "\n",
       "[840 rows x 18 columns]"
      ]
     },
     "execution_count": 41,
     "metadata": {},
     "output_type": "execute_result"
    }
   ],
   "source": [
    "result = gs.fit(X_train_over, y_train_over)\n",
    "print(gs.best_estimator_) # 이 모델 사용\n",
    "print('최고 평균 재현율(Recall): {}'.format(gs.best_score_))\n",
    "print('최적 파라미터: {}'.format(gs.best_params_))\n",
    "pd.DataFrame(result.cv_results_)"
   ]
  },
  {
   "cell_type": "code",
   "execution_count": 42,
   "metadata": {
    "id": "vgXKCHDfvxBC",
    "outputId": "2edca3bf-4614-4978-efcb-0fd5fd64e729"
   },
   "outputs": [
    {
     "name": "stdout",
     "output_type": "stream",
     "text": [
      "학습 데이터 점수:  71.14\n",
      "평가 데이터 점수:  66.52\n"
     ]
    },
    {
     "data": {
      "image/png": "[encoded data removed]",
      "text/plain": [
       "<Figure size 216x216 with 1 Axes>"
      ]
     },
     "metadata": {
      "needs_background": "light"
     },
     "output_type": "display_data"
    },
    {
     "name": "stdout",
     "output_type": "stream",
     "text": [
      "정확도(accuracy):  0.67\n",
      "정밀도(precision):  0.28\n",
      "재현율(recall):  0.51\n",
      "F1 score:  0.36\n"
     ]
    }
   ],
   "source": [
    "dt = DecisionTreeClassifier(criterion=\"entropy\", max_depth=10, max_features=\"log2\", min_samples_leaf=3, min_samples_split=12, random_state=4)\n",
    "dt.fit(X_train_over, y_train_over)\n",
    "predict = dt.predict(X_test)\n",
    "\n",
    "train_score = dt.score(X_train_over, y_train_over)\n",
    "test_score = dt.score(X_test, y_test)\n",
    "print(\"학습 데이터 점수: {: .2f}\".format(train_score * 100))\n",
    "print(\"평가 데이터 점수: {: .2f}\".format(test_score * 100))\n",
    "\n",
    "# Confusion Matrix\n",
    "confmat = confusion_matrix(y_true=y_test, y_pred=predict)\n",
    "\n",
    "fig, ax = plt.subplots(figsize=(3,3))\n",
    "ax.matshow(confmat, cmap=plt.cm.Blues, alpha=0.3)\n",
    "\n",
    "for i in range(confmat.shape[0]):\n",
    "    for j in range(confmat.shape[1]):\n",
    "        ax.text(x=j, y=i, s=confmat[i, j], va='center', ha='center')\n",
    "        \n",
    "plt.xlabel('Prediction label')\n",
    "plt.ylabel('True label')\n",
    "plt.tight_layout()\n",
    "plt.show()\n",
    "\n",
    "accuracy = accuracy_score(y_test, predict)\n",
    "precision = precision_score(y_test, predict)\n",
    "recall = recall_score(y_test, predict)\n",
    "print(\"정확도(accuracy): {: .2f}\".format(accuracy))\n",
    "print(\"정밀도(precision): {: .2f}\".format(precision))\n",
    "print(\"재현율(recall): {: .2f}\".format(recall))\n",
    "\n",
    "f1 = f1_score(y_test, predict)\n",
    "print(\"F1 score: {: .2f}\".format(f1))"
   ]
  },
  {
   "attachments": {},
   "cell_type": "markdown",
   "metadata": {
    "id": "IvrFfCjnvxBD"
   },
   "source": [
    "## 2nd Model - SVC\n",
    "- SVM은 입력 데이터가 정규화 되어야 좋은 성능을 보임\n",
    "- 주로 모든 특성 값을 [0, 1] 사이의 범위로 만듦\n",
    "- Standardization 또는 MinMaxScaler 사용"
   ]
  },
  {
   "cell_type": "code",
   "execution_count": 43,
   "metadata": {
    "id": "fxNSbOggvxBD"
   },
   "outputs": [],
   "source": [
    "from sklearn.svm import SVC"
   ]
  },
  {
   "attachments": {},
   "cell_type": "markdown",
   "metadata": {
    "id": "WwMc3xFSvxBE"
   },
   "source": [
    "### Parameter 수정\n",
    "SVC()의 Parameter\n",
    "1. gamma (default='scale'): 'rbf', 'sigmoid', 'poly'에 대한 커널 계수결정 \n",
    " - 경계를 얼마나 유연하게 그을 것인지 정함\n",
    " - 학습 데이터에 얼마나 민감하게 반응할 것인지 모델을 조정(C와 비슷한 개념) \n",
    " - gamma 값을 높이면 학습 데이터에 많이 의존해서 구불구불한 경계 그음(오버피팅을 초래 가능)\n",
    " - gamma 값을 낮추면 학습 데이터에 별로 의존하지 않고 결정 경계를 직선에 가깝게 그음(언더피팅이 발생 가능)\n",
    " - 'auto', 'scale' 존재\n",
    "2. C (default=1.0): 규제의 강도를 조절\n",
    " - C값이 클수록 하드마진(오류 허용 안 함) -> Hard\n",
    " - 작을수록 소프트마진(오류를 허용함) -> Soft\n",
    "3. kernel (default='rbf'): 알고리즘에 사용할 커널 유형 지정\n",
    " - 원래 가지고 있는 데이터를 더 높은 차원의 데이터로 변환\n",
    " - 'linear', 'poly', 'sigmoid', 'rbf', 'precomputed' 존재\n",
    " - 'poly'는 3차원, 'rbf'는 무한한 차원"
   ]
  },
  {
   "cell_type": "code",
   "execution_count": 44,
   "metadata": {
    "id": "1pCH4z6gvxBE",
    "outputId": "dae0da31-182a-4f53-f084-659488c4c61a"
   },
   "outputs": [
    {
     "data": {
      "text/html": [
       "<style>#sk-container-id-3 {color: black;background-color: white;}#sk-container-id-3 pre{padding: 0;}#sk-container-id-3 div.sk-toggleable {background-color: white;}#sk-container-id-3 label.sk-toggleable__label {cursor: pointer;display: block;width: 100%;margin-bottom: 0;padding: 0.3em;box-sizing: border-box;text-align: center;}#sk-container-id-3 label.sk-toggleable__label-arrow:before {content: \"▸\";float: left;margin-right: 0.25em;color: #696969;}#sk-container-id-3 label.sk-toggleable__label-arrow:hover:before {color: black;}#sk-container-id-3 div.sk-estimator:hover label.sk-toggleable__label-arrow:before {color: black;}#sk-container-id-3 div.sk-toggleable__content {max-height: 0;max-width: 0;overflow: hidden;text-align: left;background-color: #f0f8ff;}#sk-container-id-3 div.sk-toggleable__content pre {margin: 0.2em;color: black;border-radius: 0.25em;background-color: #f0f8ff;}#sk-container-id-3 input.sk-toggleable__control:checked~div.sk-toggleable__content {max-height: 200px;max-width: 100%;overflow: auto;}#sk-container-id-3 input.sk-toggleable__control:checked~label.sk-toggleable__label-arrow:before {content: \"▾\";}#sk-container-id-3 div.sk-estimator input.sk-toggleable__control:checked~label.sk-toggleable__label {background-color: #d4ebff;}#sk-container-id-3 div.sk-label input.sk-toggleable__control:checked~label.sk-toggleable__label {background-color: #d4ebff;}#sk-container-id-3 input.sk-hidden--visually {border: 0;clip: rect(1px 1px 1px 1px);clip: rect(1px, 1px, 1px, 1px);height: 1px;margin: -1px;overflow: hidden;padding: 0;position: absolute;width: 1px;}#sk-container-id-3 div.sk-estimator {font-family: monospace;background-color: #f0f8ff;border: 1px dotted black;border-radius: 0.25em;box-sizing: border-box;margin-bottom: 0.5em;}#sk-container-id-3 div.sk-estimator:hover {background-color: #d4ebff;}#sk-container-id-3 div.sk-parallel-item::after {content: \"\";width: 100%;border-bottom: 1px solid gray;flex-grow: 1;}#sk-container-id-3 div.sk-label:hover label.sk-toggleable__label {background-color: #d4ebff;}#sk-container-id-3 div.sk-serial::before {content: \"\";position: absolute;border-left: 1px solid gray;box-sizing: border-box;top: 0;bottom: 0;left: 50%;z-index: 0;}#sk-container-id-3 div.sk-serial {display: flex;flex-direction: column;align-items: center;background-color: white;padding-right: 0.2em;padding-left: 0.2em;position: relative;}#sk-container-id-3 div.sk-item {position: relative;z-index: 1;}#sk-container-id-3 div.sk-parallel {display: flex;align-items: stretch;justify-content: center;background-color: white;position: relative;}#sk-container-id-3 div.sk-item::before, #sk-container-id-3 div.sk-parallel-item::before {content: \"\";position: absolute;border-left: 1px solid gray;box-sizing: border-box;top: 0;bottom: 0;left: 50%;z-index: -1;}#sk-container-id-3 div.sk-parallel-item {display: flex;flex-direction: column;z-index: 1;position: relative;background-color: white;}#sk-container-id-3 div.sk-parallel-item:first-child::after {align-self: flex-end;width: 50%;}#sk-container-id-3 div.sk-parallel-item:last-child::after {align-self: flex-start;width: 50%;}#sk-container-id-3 div.sk-parallel-item:only-child::after {width: 0;}#sk-container-id-3 div.sk-dashed-wrapped {border: 1px dashed gray;margin: 0 0.4em 0.5em 0.4em;box-sizing: border-box;padding-bottom: 0.4em;background-color: white;}#sk-container-id-3 div.sk-label label {font-family: monospace;font-weight: bold;display: inline-block;line-height: 1.2em;}#sk-container-id-3 div.sk-label-container {text-align: center;}#sk-container-id-3 div.sk-container {/* jupyter's `normalize.less` sets `[hidden] { display: none; }` but bootstrap.min.css set `[hidden] { display: none !important; }` so we also need the `!important` here to be able to override the default hidden behavior on the sphinx rendered scikit-learn.org. See: https://github.com/scikit-learn/scikit-learn/issues/21755 */display: inline-block !important;position: relative;}#sk-container-id-3 div.sk-text-repr-fallback {display: none;}</style><div id=\"sk-container-id-3\" class=\"sk-top-container\"><div class=\"sk-text-repr-fallback\"><pre>GridSearchCV(estimator=SVC(), n_jobs=8,\n",
       "             param_grid=[{&#x27;C&#x27;: [0.01, 0.1, 1.0, 10, 100],\n",
       "                          &#x27;gamma&#x27;: [&#x27;auto&#x27;, &#x27;scale&#x27;],\n",
       "                          &#x27;kernel&#x27;: [&#x27;linear&#x27;, &#x27;poly&#x27;, &#x27;sigmoid&#x27;]}],\n",
       "             scoring=&#x27;recall&#x27;, verbose=True)</pre><b>In a Jupyter environment, please rerun this cell to show the HTML representation or trust the notebook. <br />On GitHub, the HTML representation is unable to render, please try loading this page with nbviewer.org.</b></div><div class=\"sk-container\" hidden><div class=\"sk-item sk-dashed-wrapped\"><div class=\"sk-label-container\"><div class=\"sk-label sk-toggleable\"><input class=\"sk-toggleable__control sk-hidden--visually\" id=\"sk-estimator-id-7\" type=\"checkbox\" ><label for=\"sk-estimator-id-7\" class=\"sk-toggleable__label sk-toggleable__label-arrow\">GridSearchCV</label><div class=\"sk-toggleable__content\"><pre>GridSearchCV(estimator=SVC(), n_jobs=8,\n",
       "             param_grid=[{&#x27;C&#x27;: [0.01, 0.1, 1.0, 10, 100],\n",
       "                          &#x27;gamma&#x27;: [&#x27;auto&#x27;, &#x27;scale&#x27;],\n",
       "                          &#x27;kernel&#x27;: [&#x27;linear&#x27;, &#x27;poly&#x27;, &#x27;sigmoid&#x27;]}],\n",
       "             scoring=&#x27;recall&#x27;, verbose=True)</pre></div></div></div><div class=\"sk-parallel\"><div class=\"sk-parallel-item\"><div class=\"sk-item\"><div class=\"sk-label-container\"><div class=\"sk-label sk-toggleable\"><input class=\"sk-toggleable__control sk-hidden--visually\" id=\"sk-estimator-id-8\" type=\"checkbox\" ><label for=\"sk-estimator-id-8\" class=\"sk-toggleable__label sk-toggleable__label-arrow\">estimator: SVC</label><div class=\"sk-toggleable__content\"><pre>SVC()</pre></div></div></div><div class=\"sk-serial\"><div class=\"sk-item\"><div class=\"sk-estimator sk-toggleable\"><input class=\"sk-toggleable__control sk-hidden--visually\" id=\"sk-estimator-id-9\" type=\"checkbox\" ><label for=\"sk-estimator-id-9\" class=\"sk-toggleable__label sk-toggleable__label-arrow\">SVC</label><div class=\"sk-toggleable__content\"><pre>SVC()</pre></div></div></div></div></div></div></div></div></div></div>"
      ],
      "text/plain": [
       "GridSearchCV(estimator=SVC(), n_jobs=8,\n",
       "             param_grid=[{'C': [0.01, 0.1, 1.0, 10, 100],\n",
       "                          'gamma': ['auto', 'scale'],\n",
       "                          'kernel': ['linear', 'poly', 'sigmoid']}],\n",
       "             scoring='recall', verbose=True)"
      ]
     },
     "execution_count": 44,
     "metadata": {},
     "output_type": "execute_result"
    }
   ],
   "source": [
    "param_grid = [{'gamma': ['auto', 'scale'], \n",
    "               'C': [0.01, 0.1, 1.0, 10, 100], 'kernel':['linear','poly','sigmoid']}]\n",
    "\n",
    "gs = GridSearchCV(\n",
    "    estimator=SVC(),\n",
    "    param_grid=param_grid,\n",
    "    scoring='recall',\n",
    "    n_jobs=multiprocessing.cpu_count(),\n",
    "    verbose=True)\n",
    "gs"
   ]
  },
  {
   "cell_type": "code",
   "execution_count": 45,
   "metadata": {
    "id": "WFHFeVAVvxBE",
    "outputId": "c3ffaa1e-57b9-4e3c-9d2d-29393a4bbc5c"
   },
   "outputs": [
    {
     "name": "stdout",
     "output_type": "stream",
     "text": [
      "Fitting 5 folds for each of 30 candidates, totalling 150 fits\n",
      "SVC(C=10, gamma='auto', kernel='poly')\n",
      "최적 점수: 0.6699879954268293\n",
      "최적 파라미터: {'C': 10, 'gamma': 'auto', 'kernel': 'poly'}\n"
     ]
    },
    {
     "data": {
      "text/html": [
       "<div>\n",
       "<style scoped>\n",
       "    .dataframe tbody tr th:only-of-type {\n",
       "        vertical-align: middle;\n",
       "    }\n",
       "\n",
       "    .dataframe tbody tr th {\n",
       "        vertical-align: top;\n",
       "    }\n",
       "\n",
       "    .dataframe thead th {\n",
       "        text-align: right;\n",
       "    }\n",
       "</style>\n",
       "<table border=\"1\" class=\"dataframe\">\n",
       "  <thead>\n",
       "    <tr style=\"text-align: right;\">\n",
       "      <th></th>\n",
       "      <th>mean_fit_time</th>\n",
       "      <th>std_fit_time</th>\n",
       "      <th>mean_score_time</th>\n",
       "      <th>std_score_time</th>\n",
       "      <th>param_C</th>\n",
       "      <th>param_gamma</th>\n",
       "      <th>param_kernel</th>\n",
       "      <th>params</th>\n",
       "      <th>split0_test_score</th>\n",
       "      <th>split1_test_score</th>\n",
       "      <th>split2_test_score</th>\n",
       "      <th>split3_test_score</th>\n",
       "      <th>split4_test_score</th>\n",
       "      <th>mean_test_score</th>\n",
       "      <th>std_test_score</th>\n",
       "      <th>rank_test_score</th>\n",
       "    </tr>\n",
       "  </thead>\n",
       "  <tbody>\n",
       "    <tr>\n",
       "      <th>0</th>\n",
       "      <td>8.763958</td>\n",
       "      <td>0.309263</td>\n",
       "      <td>1.354577</td>\n",
       "      <td>0.158273</td>\n",
       "      <td>0.01</td>\n",
       "      <td>auto</td>\n",
       "      <td>linear</td>\n",
       "      <td>{'C': 0.01, 'gamma': 'auto', 'kernel': 'linear'}</td>\n",
       "      <td>0.595122</td>\n",
       "      <td>0.605854</td>\n",
       "      <td>0.631220</td>\n",
       "      <td>0.615610</td>\n",
       "      <td>0.614258</td>\n",
       "      <td>0.612413</td>\n",
       "      <td>0.011911</td>\n",
       "      <td>15</td>\n",
       "    </tr>\n",
       "    <tr>\n",
       "      <th>1</th>\n",
       "      <td>9.949985</td>\n",
       "      <td>0.608404</td>\n",
       "      <td>1.627447</td>\n",
       "      <td>0.220501</td>\n",
       "      <td>0.01</td>\n",
       "      <td>auto</td>\n",
       "      <td>poly</td>\n",
       "      <td>{'C': 0.01, 'gamma': 'auto', 'kernel': 'poly'}</td>\n",
       "      <td>0.499512</td>\n",
       "      <td>0.505366</td>\n",
       "      <td>0.489756</td>\n",
       "      <td>0.496585</td>\n",
       "      <td>0.508789</td>\n",
       "      <td>0.500002</td>\n",
       "      <td>0.006676</td>\n",
       "      <td>29</td>\n",
       "    </tr>\n",
       "    <tr>\n",
       "      <th>2</th>\n",
       "      <td>10.614809</td>\n",
       "      <td>1.072761</td>\n",
       "      <td>1.940409</td>\n",
       "      <td>0.078446</td>\n",
       "      <td>0.01</td>\n",
       "      <td>auto</td>\n",
       "      <td>sigmoid</td>\n",
       "      <td>{'C': 0.01, 'gamma': 'auto', 'kernel': 'sigmoid'}</td>\n",
       "      <td>0.592195</td>\n",
       "      <td>0.594146</td>\n",
       "      <td>0.614634</td>\n",
       "      <td>0.610732</td>\n",
       "      <td>0.587891</td>\n",
       "      <td>0.599920</td>\n",
       "      <td>0.010688</td>\n",
       "      <td>20</td>\n",
       "    </tr>\n",
       "    <tr>\n",
       "      <th>3</th>\n",
       "      <td>7.955922</td>\n",
       "      <td>0.541726</td>\n",
       "      <td>1.363751</td>\n",
       "      <td>0.128615</td>\n",
       "      <td>0.01</td>\n",
       "      <td>scale</td>\n",
       "      <td>linear</td>\n",
       "      <td>{'C': 0.01, 'gamma': 'scale', 'kernel': 'linear'}</td>\n",
       "      <td>0.595122</td>\n",
       "      <td>0.605854</td>\n",
       "      <td>0.631220</td>\n",
       "      <td>0.615610</td>\n",
       "      <td>0.614258</td>\n",
       "      <td>0.612413</td>\n",
       "      <td>0.011911</td>\n",
       "      <td>15</td>\n",
       "    </tr>\n",
       "    <tr>\n",
       "      <th>4</th>\n",
       "      <td>9.184234</td>\n",
       "      <td>0.507102</td>\n",
       "      <td>1.510960</td>\n",
       "      <td>0.031304</td>\n",
       "      <td>0.01</td>\n",
       "      <td>scale</td>\n",
       "      <td>poly</td>\n",
       "      <td>{'C': 0.01, 'gamma': 'scale', 'kernel': 'poly'}</td>\n",
       "      <td>0.501463</td>\n",
       "      <td>0.505366</td>\n",
       "      <td>0.485854</td>\n",
       "      <td>0.494634</td>\n",
       "      <td>0.503906</td>\n",
       "      <td>0.498245</td>\n",
       "      <td>0.007207</td>\n",
       "      <td>30</td>\n",
       "    </tr>\n",
       "    <tr>\n",
       "      <th>5</th>\n",
       "      <td>11.464335</td>\n",
       "      <td>0.228046</td>\n",
       "      <td>1.848855</td>\n",
       "      <td>0.046074</td>\n",
       "      <td>0.01</td>\n",
       "      <td>scale</td>\n",
       "      <td>sigmoid</td>\n",
       "      <td>{'C': 0.01, 'gamma': 'scale', 'kernel': 'sigmo...</td>\n",
       "      <td>0.592195</td>\n",
       "      <td>0.594146</td>\n",
       "      <td>0.615610</td>\n",
       "      <td>0.610732</td>\n",
       "      <td>0.589844</td>\n",
       "      <td>0.600505</td>\n",
       "      <td>0.010544</td>\n",
       "      <td>19</td>\n",
       "    </tr>\n",
       "    <tr>\n",
       "      <th>6</th>\n",
       "      <td>11.545119</td>\n",
       "      <td>3.320577</td>\n",
       "      <td>2.172788</td>\n",
       "      <td>1.414979</td>\n",
       "      <td>0.1</td>\n",
       "      <td>auto</td>\n",
       "      <td>linear</td>\n",
       "      <td>{'C': 0.1, 'gamma': 'auto', 'kernel': 'linear'}</td>\n",
       "      <td>0.596098</td>\n",
       "      <td>0.614634</td>\n",
       "      <td>0.628293</td>\n",
       "      <td>0.608780</td>\n",
       "      <td>0.614258</td>\n",
       "      <td>0.612413</td>\n",
       "      <td>0.010391</td>\n",
       "      <td>15</td>\n",
       "    </tr>\n",
       "    <tr>\n",
       "      <th>7</th>\n",
       "      <td>16.900196</td>\n",
       "      <td>0.470896</td>\n",
       "      <td>1.573989</td>\n",
       "      <td>0.147279</td>\n",
       "      <td>0.1</td>\n",
       "      <td>auto</td>\n",
       "      <td>poly</td>\n",
       "      <td>{'C': 0.1, 'gamma': 'auto', 'kernel': 'poly'}</td>\n",
       "      <td>0.636098</td>\n",
       "      <td>0.638049</td>\n",
       "      <td>0.658537</td>\n",
       "      <td>0.639024</td>\n",
       "      <td>0.667969</td>\n",
       "      <td>0.647935</td>\n",
       "      <td>0.012892</td>\n",
       "      <td>8</td>\n",
       "    </tr>\n",
       "    <tr>\n",
       "      <th>8</th>\n",
       "      <td>12.868938</td>\n",
       "      <td>1.084357</td>\n",
       "      <td>1.689326</td>\n",
       "      <td>0.265703</td>\n",
       "      <td>0.1</td>\n",
       "      <td>auto</td>\n",
       "      <td>sigmoid</td>\n",
       "      <td>{'C': 0.1, 'gamma': 'auto', 'kernel': 'sigmoid'}</td>\n",
       "      <td>0.560000</td>\n",
       "      <td>0.567805</td>\n",
       "      <td>0.582439</td>\n",
       "      <td>0.564878</td>\n",
       "      <td>0.563477</td>\n",
       "      <td>0.567720</td>\n",
       "      <td>0.007776</td>\n",
       "      <td>22</td>\n",
       "    </tr>\n",
       "    <tr>\n",
       "      <th>9</th>\n",
       "      <td>9.002117</td>\n",
       "      <td>0.470587</td>\n",
       "      <td>1.297690</td>\n",
       "      <td>0.188767</td>\n",
       "      <td>0.1</td>\n",
       "      <td>scale</td>\n",
       "      <td>linear</td>\n",
       "      <td>{'C': 0.1, 'gamma': 'scale', 'kernel': 'linear'}</td>\n",
       "      <td>0.596098</td>\n",
       "      <td>0.614634</td>\n",
       "      <td>0.628293</td>\n",
       "      <td>0.608780</td>\n",
       "      <td>0.614258</td>\n",
       "      <td>0.612413</td>\n",
       "      <td>0.010391</td>\n",
       "      <td>15</td>\n",
       "    </tr>\n",
       "    <tr>\n",
       "      <th>10</th>\n",
       "      <td>9.169292</td>\n",
       "      <td>0.356937</td>\n",
       "      <td>1.369918</td>\n",
       "      <td>0.194791</td>\n",
       "      <td>0.1</td>\n",
       "      <td>scale</td>\n",
       "      <td>poly</td>\n",
       "      <td>{'C': 0.1, 'gamma': 'scale', 'kernel': 'poly'}</td>\n",
       "      <td>0.638049</td>\n",
       "      <td>0.639024</td>\n",
       "      <td>0.658537</td>\n",
       "      <td>0.640976</td>\n",
       "      <td>0.666992</td>\n",
       "      <td>0.648716</td>\n",
       "      <td>0.011816</td>\n",
       "      <td>7</td>\n",
       "    </tr>\n",
       "    <tr>\n",
       "      <th>11</th>\n",
       "      <td>12.252211</td>\n",
       "      <td>0.901369</td>\n",
       "      <td>1.779864</td>\n",
       "      <td>0.113877</td>\n",
       "      <td>0.1</td>\n",
       "      <td>scale</td>\n",
       "      <td>sigmoid</td>\n",
       "      <td>{'C': 0.1, 'gamma': 'scale', 'kernel': 'sigmoid'}</td>\n",
       "      <td>0.579512</td>\n",
       "      <td>0.592195</td>\n",
       "      <td>0.575610</td>\n",
       "      <td>0.576585</td>\n",
       "      <td>0.563477</td>\n",
       "      <td>0.577476</td>\n",
       "      <td>0.009177</td>\n",
       "      <td>21</td>\n",
       "    </tr>\n",
       "    <tr>\n",
       "      <th>12</th>\n",
       "      <td>12.095845</td>\n",
       "      <td>0.265636</td>\n",
       "      <td>1.221333</td>\n",
       "      <td>0.081124</td>\n",
       "      <td>1</td>\n",
       "      <td>auto</td>\n",
       "      <td>linear</td>\n",
       "      <td>{'C': 1.0, 'gamma': 'auto', 'kernel': 'linear'}</td>\n",
       "      <td>0.596098</td>\n",
       "      <td>0.614634</td>\n",
       "      <td>0.628293</td>\n",
       "      <td>0.610732</td>\n",
       "      <td>0.614258</td>\n",
       "      <td>0.612803</td>\n",
       "      <td>0.010284</td>\n",
       "      <td>9</td>\n",
       "    </tr>\n",
       "    <tr>\n",
       "      <th>13</th>\n",
       "      <td>12.971691</td>\n",
       "      <td>0.438983</td>\n",
       "      <td>1.216726</td>\n",
       "      <td>0.192009</td>\n",
       "      <td>1</td>\n",
       "      <td>auto</td>\n",
       "      <td>poly</td>\n",
       "      <td>{'C': 1.0, 'gamma': 'auto', 'kernel': 'poly'}</td>\n",
       "      <td>0.649756</td>\n",
       "      <td>0.664390</td>\n",
       "      <td>0.681951</td>\n",
       "      <td>0.650732</td>\n",
       "      <td>0.690430</td>\n",
       "      <td>0.667452</td>\n",
       "      <td>0.016372</td>\n",
       "      <td>3</td>\n",
       "    </tr>\n",
       "    <tr>\n",
       "      <th>14</th>\n",
       "      <td>9.807986</td>\n",
       "      <td>0.859465</td>\n",
       "      <td>1.069881</td>\n",
       "      <td>0.136184</td>\n",
       "      <td>1</td>\n",
       "      <td>auto</td>\n",
       "      <td>sigmoid</td>\n",
       "      <td>{'C': 1.0, 'gamma': 'auto', 'kernel': 'sigmoid'}</td>\n",
       "      <td>0.555122</td>\n",
       "      <td>0.536585</td>\n",
       "      <td>0.556098</td>\n",
       "      <td>0.552195</td>\n",
       "      <td>0.551758</td>\n",
       "      <td>0.550352</td>\n",
       "      <td>0.007080</td>\n",
       "      <td>27</td>\n",
       "    </tr>\n",
       "    <tr>\n",
       "      <th>15</th>\n",
       "      <td>12.093649</td>\n",
       "      <td>0.297985</td>\n",
       "      <td>1.194006</td>\n",
       "      <td>0.042718</td>\n",
       "      <td>1</td>\n",
       "      <td>scale</td>\n",
       "      <td>linear</td>\n",
       "      <td>{'C': 1.0, 'gamma': 'scale', 'kernel': 'linear'}</td>\n",
       "      <td>0.596098</td>\n",
       "      <td>0.614634</td>\n",
       "      <td>0.628293</td>\n",
       "      <td>0.610732</td>\n",
       "      <td>0.614258</td>\n",
       "      <td>0.612803</td>\n",
       "      <td>0.010284</td>\n",
       "      <td>9</td>\n",
       "    </tr>\n",
       "    <tr>\n",
       "      <th>16</th>\n",
       "      <td>12.052361</td>\n",
       "      <td>0.539847</td>\n",
       "      <td>1.193010</td>\n",
       "      <td>0.109251</td>\n",
       "      <td>1</td>\n",
       "      <td>scale</td>\n",
       "      <td>poly</td>\n",
       "      <td>{'C': 1.0, 'gamma': 'scale', 'kernel': 'poly'}</td>\n",
       "      <td>0.649756</td>\n",
       "      <td>0.664390</td>\n",
       "      <td>0.681951</td>\n",
       "      <td>0.650732</td>\n",
       "      <td>0.688477</td>\n",
       "      <td>0.667061</td>\n",
       "      <td>0.015834</td>\n",
       "      <td>4</td>\n",
       "    </tr>\n",
       "    <tr>\n",
       "      <th>17</th>\n",
       "      <td>11.534548</td>\n",
       "      <td>1.162314</td>\n",
       "      <td>1.008900</td>\n",
       "      <td>0.066727</td>\n",
       "      <td>1</td>\n",
       "      <td>scale</td>\n",
       "      <td>sigmoid</td>\n",
       "      <td>{'C': 1.0, 'gamma': 'scale', 'kernel': 'sigmoid'}</td>\n",
       "      <td>0.539512</td>\n",
       "      <td>0.540488</td>\n",
       "      <td>0.571707</td>\n",
       "      <td>0.558049</td>\n",
       "      <td>0.548828</td>\n",
       "      <td>0.551717</td>\n",
       "      <td>0.012026</td>\n",
       "      <td>26</td>\n",
       "    </tr>\n",
       "    <tr>\n",
       "      <th>18</th>\n",
       "      <td>25.006711</td>\n",
       "      <td>0.739757</td>\n",
       "      <td>1.270202</td>\n",
       "      <td>0.075720</td>\n",
       "      <td>10</td>\n",
       "      <td>auto</td>\n",
       "      <td>linear</td>\n",
       "      <td>{'C': 10, 'gamma': 'auto', 'kernel': 'linear'}</td>\n",
       "      <td>0.596098</td>\n",
       "      <td>0.614634</td>\n",
       "      <td>0.628293</td>\n",
       "      <td>0.610732</td>\n",
       "      <td>0.614258</td>\n",
       "      <td>0.612803</td>\n",
       "      <td>0.010284</td>\n",
       "      <td>9</td>\n",
       "    </tr>\n",
       "    <tr>\n",
       "      <th>19</th>\n",
       "      <td>27.244926</td>\n",
       "      <td>2.296434</td>\n",
       "      <td>1.159897</td>\n",
       "      <td>0.090590</td>\n",
       "      <td>10</td>\n",
       "      <td>auto</td>\n",
       "      <td>poly</td>\n",
       "      <td>{'C': 10, 'gamma': 'auto', 'kernel': 'poly'}</td>\n",
       "      <td>0.652683</td>\n",
       "      <td>0.668293</td>\n",
       "      <td>0.686829</td>\n",
       "      <td>0.653659</td>\n",
       "      <td>0.688477</td>\n",
       "      <td>0.669988</td>\n",
       "      <td>0.015456</td>\n",
       "      <td>1</td>\n",
       "    </tr>\n",
       "    <tr>\n",
       "      <th>20</th>\n",
       "      <td>8.768547</td>\n",
       "      <td>0.399089</td>\n",
       "      <td>1.043209</td>\n",
       "      <td>0.076801</td>\n",
       "      <td>10</td>\n",
       "      <td>auto</td>\n",
       "      <td>sigmoid</td>\n",
       "      <td>{'C': 10, 'gamma': 'auto', 'kernel': 'sigmoid'}</td>\n",
       "      <td>0.565854</td>\n",
       "      <td>0.518049</td>\n",
       "      <td>0.574634</td>\n",
       "      <td>0.520976</td>\n",
       "      <td>0.559570</td>\n",
       "      <td>0.547817</td>\n",
       "      <td>0.023619</td>\n",
       "      <td>28</td>\n",
       "    </tr>\n",
       "    <tr>\n",
       "      <th>21</th>\n",
       "      <td>24.799466</td>\n",
       "      <td>0.925141</td>\n",
       "      <td>1.197997</td>\n",
       "      <td>0.053248</td>\n",
       "      <td>10</td>\n",
       "      <td>scale</td>\n",
       "      <td>linear</td>\n",
       "      <td>{'C': 10, 'gamma': 'scale', 'kernel': 'linear'}</td>\n",
       "      <td>0.596098</td>\n",
       "      <td>0.614634</td>\n",
       "      <td>0.628293</td>\n",
       "      <td>0.610732</td>\n",
       "      <td>0.614258</td>\n",
       "      <td>0.612803</td>\n",
       "      <td>0.010284</td>\n",
       "      <td>9</td>\n",
       "    </tr>\n",
       "    <tr>\n",
       "      <th>22</th>\n",
       "      <td>25.811359</td>\n",
       "      <td>1.696217</td>\n",
       "      <td>1.112226</td>\n",
       "      <td>0.032972</td>\n",
       "      <td>10</td>\n",
       "      <td>scale</td>\n",
       "      <td>poly</td>\n",
       "      <td>{'C': 10, 'gamma': 'scale', 'kernel': 'poly'}</td>\n",
       "      <td>0.652683</td>\n",
       "      <td>0.668293</td>\n",
       "      <td>0.686829</td>\n",
       "      <td>0.653659</td>\n",
       "      <td>0.688477</td>\n",
       "      <td>0.669988</td>\n",
       "      <td>0.015456</td>\n",
       "      <td>1</td>\n",
       "    </tr>\n",
       "    <tr>\n",
       "      <th>23</th>\n",
       "      <td>7.431522</td>\n",
       "      <td>0.424951</td>\n",
       "      <td>0.975990</td>\n",
       "      <td>0.028080</td>\n",
       "      <td>10</td>\n",
       "      <td>scale</td>\n",
       "      <td>sigmoid</td>\n",
       "      <td>{'C': 10, 'gamma': 'scale', 'kernel': 'sigmoid'}</td>\n",
       "      <td>0.562927</td>\n",
       "      <td>0.548293</td>\n",
       "      <td>0.560000</td>\n",
       "      <td>0.548293</td>\n",
       "      <td>0.552734</td>\n",
       "      <td>0.554449</td>\n",
       "      <td>0.006024</td>\n",
       "      <td>25</td>\n",
       "    </tr>\n",
       "    <tr>\n",
       "      <th>24</th>\n",
       "      <td>92.830497</td>\n",
       "      <td>2.059030</td>\n",
       "      <td>1.159699</td>\n",
       "      <td>0.058870</td>\n",
       "      <td>100</td>\n",
       "      <td>auto</td>\n",
       "      <td>linear</td>\n",
       "      <td>{'C': 100, 'gamma': 'auto', 'kernel': 'linear'}</td>\n",
       "      <td>0.596098</td>\n",
       "      <td>0.614634</td>\n",
       "      <td>0.628293</td>\n",
       "      <td>0.610732</td>\n",
       "      <td>0.614258</td>\n",
       "      <td>0.612803</td>\n",
       "      <td>0.010284</td>\n",
       "      <td>9</td>\n",
       "    </tr>\n",
       "    <tr>\n",
       "      <th>25</th>\n",
       "      <td>152.880677</td>\n",
       "      <td>13.960719</td>\n",
       "      <td>1.055176</td>\n",
       "      <td>0.047190</td>\n",
       "      <td>100</td>\n",
       "      <td>auto</td>\n",
       "      <td>poly</td>\n",
       "      <td>{'C': 100, 'gamma': 'auto', 'kernel': 'poly'}</td>\n",
       "      <td>0.640976</td>\n",
       "      <td>0.669268</td>\n",
       "      <td>0.680976</td>\n",
       "      <td>0.652683</td>\n",
       "      <td>0.682617</td>\n",
       "      <td>0.665304</td>\n",
       "      <td>0.016200</td>\n",
       "      <td>6</td>\n",
       "    </tr>\n",
       "    <tr>\n",
       "      <th>26</th>\n",
       "      <td>6.906127</td>\n",
       "      <td>0.445522</td>\n",
       "      <td>0.884036</td>\n",
       "      <td>0.027845</td>\n",
       "      <td>100</td>\n",
       "      <td>auto</td>\n",
       "      <td>sigmoid</td>\n",
       "      <td>{'C': 100, 'gamma': 'auto', 'kernel': 'sigmoid'}</td>\n",
       "      <td>0.563902</td>\n",
       "      <td>0.548293</td>\n",
       "      <td>0.577561</td>\n",
       "      <td>0.541463</td>\n",
       "      <td>0.561523</td>\n",
       "      <td>0.558549</td>\n",
       "      <td>0.012618</td>\n",
       "      <td>23</td>\n",
       "    </tr>\n",
       "    <tr>\n",
       "      <th>27</th>\n",
       "      <td>93.307024</td>\n",
       "      <td>2.694553</td>\n",
       "      <td>1.118807</td>\n",
       "      <td>0.050088</td>\n",
       "      <td>100</td>\n",
       "      <td>scale</td>\n",
       "      <td>linear</td>\n",
       "      <td>{'C': 100, 'gamma': 'scale', 'kernel': 'linear'}</td>\n",
       "      <td>0.596098</td>\n",
       "      <td>0.614634</td>\n",
       "      <td>0.628293</td>\n",
       "      <td>0.610732</td>\n",
       "      <td>0.614258</td>\n",
       "      <td>0.612803</td>\n",
       "      <td>0.010284</td>\n",
       "      <td>9</td>\n",
       "    </tr>\n",
       "    <tr>\n",
       "      <th>28</th>\n",
       "      <td>115.487623</td>\n",
       "      <td>6.422606</td>\n",
       "      <td>0.507258</td>\n",
       "      <td>0.157708</td>\n",
       "      <td>100</td>\n",
       "      <td>scale</td>\n",
       "      <td>poly</td>\n",
       "      <td>{'C': 100, 'gamma': 'scale', 'kernel': 'poly'}</td>\n",
       "      <td>0.640976</td>\n",
       "      <td>0.669268</td>\n",
       "      <td>0.680976</td>\n",
       "      <td>0.653659</td>\n",
       "      <td>0.682617</td>\n",
       "      <td>0.665499</td>\n",
       "      <td>0.016052</td>\n",
       "      <td>5</td>\n",
       "    </tr>\n",
       "    <tr>\n",
       "      <th>29</th>\n",
       "      <td>7.304462</td>\n",
       "      <td>0.667067</td>\n",
       "      <td>0.905177</td>\n",
       "      <td>0.073013</td>\n",
       "      <td>100</td>\n",
       "      <td>scale</td>\n",
       "      <td>sigmoid</td>\n",
       "      <td>{'C': 100, 'gamma': 'scale', 'kernel': 'sigmoid'}</td>\n",
       "      <td>0.551220</td>\n",
       "      <td>0.566829</td>\n",
       "      <td>0.587317</td>\n",
       "      <td>0.531707</td>\n",
       "      <td>0.548828</td>\n",
       "      <td>0.557180</td>\n",
       "      <td>0.018738</td>\n",
       "      <td>24</td>\n",
       "    </tr>\n",
       "  </tbody>\n",
       "</table>\n",
       "</div>"
      ],
      "text/plain": [
       "    mean_fit_time  std_fit_time  mean_score_time  std_score_time param_C  \\\n",
       "0        8.763958      0.309263         1.354577        0.158273    0.01   \n",
       "1        9.949985      0.608404         1.627447        0.220501    0.01   \n",
       "2       10.614809      1.072761         1.940409        0.078446    0.01   \n",
       "3        7.955922      0.541726         1.363751        0.128615    0.01   \n",
       "4        9.184234      0.507102         1.510960        0.031304    0.01   \n",
       "5       11.464335      0.228046         1.848855        0.046074    0.01   \n",
       "6       11.545119      3.320577         2.172788        1.414979     0.1   \n",
       "7       16.900196      0.470896         1.573989        0.147279     0.1   \n",
       "8       12.868938      1.084357         1.689326        0.265703     0.1   \n",
       "9        9.002117      0.470587         1.297690        0.188767     0.1   \n",
       "10       9.169292      0.356937         1.369918        0.194791     0.1   \n",
       "11      12.252211      0.901369         1.779864        0.113877     0.1   \n",
       "12      12.095845      0.265636         1.221333        0.081124       1   \n",
       "13      12.971691      0.438983         1.216726        0.192009       1   \n",
       "14       9.807986      0.859465         1.069881        0.136184       1   \n",
       "15      12.093649      0.297985         1.194006        0.042718       1   \n",
       "16      12.052361      0.539847         1.193010        0.109251       1   \n",
       "17      11.534548      1.162314         1.008900        0.066727       1   \n",
       "18      25.006711      0.739757         1.270202        0.075720      10   \n",
       "19      27.244926      2.296434         1.159897        0.090590      10   \n",
       "20       8.768547      0.399089         1.043209        0.076801      10   \n",
       "21      24.799466      0.925141         1.197997        0.053248      10   \n",
       "22      25.811359      1.696217         1.112226        0.032972      10   \n",
       "23       7.431522      0.424951         0.975990        0.028080      10   \n",
       "24      92.830497      2.059030         1.159699        0.058870     100   \n",
       "25     152.880677     13.960719         1.055176        0.047190     100   \n",
       "26       6.906127      0.445522         0.884036        0.027845     100   \n",
       "27      93.307024      2.694553         1.118807        0.050088     100   \n",
       "28     115.487623      6.422606         0.507258        0.157708     100   \n",
       "29       7.304462      0.667067         0.905177        0.073013     100   \n",
       "\n",
       "   param_gamma param_kernel  \\\n",
       "0         auto       linear   \n",
       "1         auto         poly   \n",
       "2         auto      sigmoid   \n",
       "3        scale       linear   \n",
       "4        scale         poly   \n",
       "5        scale      sigmoid   \n",
       "6         auto       linear   \n",
       "7         auto         poly   \n",
       "8         auto      sigmoid   \n",
       "9        scale       linear   \n",
       "10       scale         poly   \n",
       "11       scale      sigmoid   \n",
       "12        auto       linear   \n",
       "13        auto         poly   \n",
       "14        auto      sigmoid   \n",
       "15       scale       linear   \n",
       "16       scale         poly   \n",
       "17       scale      sigmoid   \n",
       "18        auto       linear   \n",
       "19        auto         poly   \n",
       "20        auto      sigmoid   \n",
       "21       scale       linear   \n",
       "22       scale         poly   \n",
       "23       scale      sigmoid   \n",
       "24        auto       linear   \n",
       "25        auto         poly   \n",
       "26        auto      sigmoid   \n",
       "27       scale       linear   \n",
       "28       scale         poly   \n",
       "29       scale      sigmoid   \n",
       "\n",
       "                                               params  split0_test_score  \\\n",
       "0    {'C': 0.01, 'gamma': 'auto', 'kernel': 'linear'}           0.595122   \n",
       "1      {'C': 0.01, 'gamma': 'auto', 'kernel': 'poly'}           0.499512   \n",
       "2   {'C': 0.01, 'gamma': 'auto', 'kernel': 'sigmoid'}           0.592195   \n",
       "3   {'C': 0.01, 'gamma': 'scale', 'kernel': 'linear'}           0.595122   \n",
       "4     {'C': 0.01, 'gamma': 'scale', 'kernel': 'poly'}           0.501463   \n",
       "5   {'C': 0.01, 'gamma': 'scale', 'kernel': 'sigmo...           0.592195   \n",
       "6     {'C': 0.1, 'gamma': 'auto', 'kernel': 'linear'}           0.596098   \n",
       "7       {'C': 0.1, 'gamma': 'auto', 'kernel': 'poly'}           0.636098   \n",
       "8    {'C': 0.1, 'gamma': 'auto', 'kernel': 'sigmoid'}           0.560000   \n",
       "9    {'C': 0.1, 'gamma': 'scale', 'kernel': 'linear'}           0.596098   \n",
       "10     {'C': 0.1, 'gamma': 'scale', 'kernel': 'poly'}           0.638049   \n",
       "11  {'C': 0.1, 'gamma': 'scale', 'kernel': 'sigmoid'}           0.579512   \n",
       "12    {'C': 1.0, 'gamma': 'auto', 'kernel': 'linear'}           0.596098   \n",
       "13      {'C': 1.0, 'gamma': 'auto', 'kernel': 'poly'}           0.649756   \n",
       "14   {'C': 1.0, 'gamma': 'auto', 'kernel': 'sigmoid'}           0.555122   \n",
       "15   {'C': 1.0, 'gamma': 'scale', 'kernel': 'linear'}           0.596098   \n",
       "16     {'C': 1.0, 'gamma': 'scale', 'kernel': 'poly'}           0.649756   \n",
       "17  {'C': 1.0, 'gamma': 'scale', 'kernel': 'sigmoid'}           0.539512   \n",
       "18     {'C': 10, 'gamma': 'auto', 'kernel': 'linear'}           0.596098   \n",
       "19       {'C': 10, 'gamma': 'auto', 'kernel': 'poly'}           0.652683   \n",
       "20    {'C': 10, 'gamma': 'auto', 'kernel': 'sigmoid'}           0.565854   \n",
       "21    {'C': 10, 'gamma': 'scale', 'kernel': 'linear'}           0.596098   \n",
       "22      {'C': 10, 'gamma': 'scale', 'kernel': 'poly'}           0.652683   \n",
       "23   {'C': 10, 'gamma': 'scale', 'kernel': 'sigmoid'}           0.562927   \n",
       "24    {'C': 100, 'gamma': 'auto', 'kernel': 'linear'}           0.596098   \n",
       "25      {'C': 100, 'gamma': 'auto', 'kernel': 'poly'}           0.640976   \n",
       "26   {'C': 100, 'gamma': 'auto', 'kernel': 'sigmoid'}           0.563902   \n",
       "27   {'C': 100, 'gamma': 'scale', 'kernel': 'linear'}           0.596098   \n",
       "28     {'C': 100, 'gamma': 'scale', 'kernel': 'poly'}           0.640976   \n",
       "29  {'C': 100, 'gamma': 'scale', 'kernel': 'sigmoid'}           0.551220   \n",
       "\n",
       "    split1_test_score  split2_test_score  split3_test_score  \\\n",
       "0            0.605854           0.631220           0.615610   \n",
       "1            0.505366           0.489756           0.496585   \n",
       "2            0.594146           0.614634           0.610732   \n",
       "3            0.605854           0.631220           0.615610   \n",
       "4            0.505366           0.485854           0.494634   \n",
       "5            0.594146           0.615610           0.610732   \n",
       "6            0.614634           0.628293           0.608780   \n",
       "7            0.638049           0.658537           0.639024   \n",
       "8            0.567805           0.582439           0.564878   \n",
       "9            0.614634           0.628293           0.608780   \n",
       "10           0.639024           0.658537           0.640976   \n",
       "11           0.592195           0.575610           0.576585   \n",
       "12           0.614634           0.628293           0.610732   \n",
       "13           0.664390           0.681951           0.650732   \n",
       "14           0.536585           0.556098           0.552195   \n",
       "15           0.614634           0.628293           0.610732   \n",
       "16           0.664390           0.681951           0.650732   \n",
       "17           0.540488           0.571707           0.558049   \n",
       "18           0.614634           0.628293           0.610732   \n",
       "19           0.668293           0.686829           0.653659   \n",
       "20           0.518049           0.574634           0.520976   \n",
       "21           0.614634           0.628293           0.610732   \n",
       "22           0.668293           0.686829           0.653659   \n",
       "23           0.548293           0.560000           0.548293   \n",
       "24           0.614634           0.628293           0.610732   \n",
       "25           0.669268           0.680976           0.652683   \n",
       "26           0.548293           0.577561           0.541463   \n",
       "27           0.614634           0.628293           0.610732   \n",
       "28           0.669268           0.680976           0.653659   \n",
       "29           0.566829           0.587317           0.531707   \n",
       "\n",
       "    split4_test_score  mean_test_score  std_test_score  rank_test_score  \n",
       "0            0.614258         0.612413        0.011911               15  \n",
       "1            0.508789         0.500002        0.006676               29  \n",
       "2            0.587891         0.599920        0.010688               20  \n",
       "3            0.614258         0.612413        0.011911               15  \n",
       "4            0.503906         0.498245        0.007207               30  \n",
       "5            0.589844         0.600505        0.010544               19  \n",
       "6            0.614258         0.612413        0.010391               15  \n",
       "7            0.667969         0.647935        0.012892                8  \n",
       "8            0.563477         0.567720        0.007776               22  \n",
       "9            0.614258         0.612413        0.010391               15  \n",
       "10           0.666992         0.648716        0.011816                7  \n",
       "11           0.563477         0.577476        0.009177               21  \n",
       "12           0.614258         0.612803        0.010284                9  \n",
       "13           0.690430         0.667452        0.016372                3  \n",
       "14           0.551758         0.550352        0.007080               27  \n",
       "15           0.614258         0.612803        0.010284                9  \n",
       "16           0.688477         0.667061        0.015834                4  \n",
       "17           0.548828         0.551717        0.012026               26  \n",
       "18           0.614258         0.612803        0.010284                9  \n",
       "19           0.688477         0.669988        0.015456                1  \n",
       "20           0.559570         0.547817        0.023619               28  \n",
       "21           0.614258         0.612803        0.010284                9  \n",
       "22           0.688477         0.669988        0.015456                1  \n",
       "23           0.552734         0.554449        0.006024               25  \n",
       "24           0.614258         0.612803        0.010284                9  \n",
       "25           0.682617         0.665304        0.016200                6  \n",
       "26           0.561523         0.558549        0.012618               23  \n",
       "27           0.614258         0.612803        0.010284                9  \n",
       "28           0.682617         0.665499        0.016052                5  \n",
       "29           0.548828         0.557180        0.018738               24  "
      ]
     },
     "execution_count": 45,
     "metadata": {},
     "output_type": "execute_result"
    }
   ],
   "source": [
    "result = gs.fit(X_train_over, y_train_over)\n",
    "print(gs.best_estimator_)\n",
    "print(\"최적 점수: {}\".format(gs.best_score_))\n",
    "print(\"최적 파라미터: {}\".format(gs.best_params_))\n",
    "pd.DataFrame(result.cv_results_)"
   ]
  },
  {
   "cell_type": "code",
   "execution_count": 46,
   "metadata": {
    "id": "L_qxxd5ivxBF",
    "outputId": "be3b9e77-5819-4f7a-f235-2c2b85f2afa3"
   },
   "outputs": [
    {
     "name": "stdout",
     "output_type": "stream",
     "text": [
      "학습 데이터 점수:  67.98\n",
      "평가 데이터 점수:  64.11\n"
     ]
    },
    {
     "data": {
      "image/png": "[encoded data removed]",
      "text/plain": [
       "<Figure size 216x216 with 1 Axes>"
      ]
     },
     "metadata": {
      "needs_background": "light"
     },
     "output_type": "display_data"
    },
    {
     "name": "stdout",
     "output_type": "stream",
     "text": [
      "정확도(accuracy):  0.64\n",
      "정밀도(precision):  0.29\n",
      "재현율(recall):  0.62\n",
      "F1 score:  0.39\n"
     ]
    }
   ],
   "source": [
    "svc = SVC(gamma= \"auto\", C=10, kernel=\"poly\")\n",
    "svc.fit(X_train_over, y_train_over)\n",
    "predict = svc.predict(X_test)\n",
    "\n",
    "train_score = svc.score(X_train_over, y_train_over)\n",
    "test_score = svc.score(X_test, y_test)\n",
    "print(\"학습 데이터 점수: {: .2f}\".format(train_score * 100))\n",
    "print(\"평가 데이터 점수: {: .2f}\".format(test_score * 100))\n",
    "\n",
    "# Confusion Matrix\n",
    "confmat = confusion_matrix(y_true=y_test, y_pred=predict)\n",
    "\n",
    "fig, ax = plt.subplots(figsize=(3,3))\n",
    "ax.matshow(confmat, cmap=plt.cm.Blues, alpha=0.3)\n",
    "\n",
    "for i in range(confmat.shape[0]):\n",
    "    for j in range(confmat.shape[1]):\n",
    "        ax.text(x=j, y=i, s=confmat[i, j], va='center', ha='center')\n",
    "        \n",
    "plt.xlabel('Prediction label')\n",
    "plt.ylabel('True label')\n",
    "plt.tight_layout()\n",
    "plt.show()\n",
    "\n",
    "accuracy = accuracy_score(y_test, predict)\n",
    "precision = precision_score(y_test, predict)\n",
    "recall = recall_score(y_test, predict)\n",
    "print(\"정확도(accuracy): {: .2f}\".format(accuracy))\n",
    "print(\"정밀도(precision): {: .2f}\".format(precision))\n",
    "print(\"재현율(recall): {: .2f}\".format(recall))\n",
    "\n",
    "f1 = f1_score(y_test, predict)\n",
    "print(\"F1 score: {: .2f}\".format(f1))"
   ]
  },
  {
   "attachments": {},
   "cell_type": "markdown",
   "metadata": {
    "id": "5xArOEAvvxBF"
   },
   "source": [
    "## 3rd Model - Association Rule Discovery"
   ]
  },
  {
   "attachments": {},
   "cell_type": "markdown",
   "metadata": {
    "id": "vNZFUBiPvxBN"
   },
   "source": [
    "### Preprocessing"
   ]
  },
  {
   "cell_type": "code",
   "execution_count": 47,
   "metadata": {
    "id": "ygWEouLwvxBO"
   },
   "outputs": [],
   "source": [
    "itemset = ['metabolic','alcohol', 'stress', 'smoke', 'walk', 'gym']"
   ]
  },
  {
   "cell_type": "code",
   "execution_count": 48,
   "metadata": {
    "id": "ZFO3V44YvxBO"
   },
   "outputs": [],
   "source": [
    "# Transaction Dataset\n",
    "td = df[itemset]"
   ]
  },
  {
   "cell_type": "code",
   "execution_count": 49,
   "metadata": {
    "id": "-n7dTbFrvxBP",
    "outputId": "66a484cb-f352-4fc9-bb32-91527bd68419"
   },
   "outputs": [
    {
     "name": "stderr",
     "output_type": "stream",
     "text": [
      "C:\\ProgramData\\Anaconda3\\lib\\site-packages\\pandas\\core\\frame.py:4163: SettingWithCopyWarning: \n",
      "A value is trying to be set on a copy of a slice from a DataFrame\n",
      "\n",
      "See the caveats in the documentation: https://pandas.pydata.org/pandas-docs/stable/user_guide/indexing.html#returning-a-view-versus-a-copy\n",
      "  return super().drop(\n"
     ]
    },
    {
     "data": {
      "text/html": [
       "<div>\n",
       "<style scoped>\n",
       "    .dataframe tbody tr th:only-of-type {\n",
       "        vertical-align: middle;\n",
       "    }\n",
       "\n",
       "    .dataframe tbody tr th {\n",
       "        vertical-align: top;\n",
       "    }\n",
       "\n",
       "    .dataframe thead th {\n",
       "        text-align: right;\n",
       "    }\n",
       "</style>\n",
       "<table border=\"1\" class=\"dataframe\">\n",
       "  <thead>\n",
       "    <tr style=\"text-align: right;\">\n",
       "      <th></th>\n",
       "      <th>metabolic</th>\n",
       "      <th>alcohol</th>\n",
       "      <th>stress</th>\n",
       "      <th>smoke</th>\n",
       "      <th>walk</th>\n",
       "      <th>gym</th>\n",
       "    </tr>\n",
       "  </thead>\n",
       "  <tbody>\n",
       "    <tr>\n",
       "      <th>0</th>\n",
       "      <td>1</td>\n",
       "      <td>1</td>\n",
       "      <td>0</td>\n",
       "      <td>0</td>\n",
       "      <td>1</td>\n",
       "      <td>0</td>\n",
       "    </tr>\n",
       "    <tr>\n",
       "      <th>1</th>\n",
       "      <td>1</td>\n",
       "      <td>1</td>\n",
       "      <td>0</td>\n",
       "      <td>0</td>\n",
       "      <td>1</td>\n",
       "      <td>0</td>\n",
       "    </tr>\n",
       "    <tr>\n",
       "      <th>2</th>\n",
       "      <td>1</td>\n",
       "      <td>1</td>\n",
       "      <td>1</td>\n",
       "      <td>0</td>\n",
       "      <td>1</td>\n",
       "      <td>0</td>\n",
       "    </tr>\n",
       "    <tr>\n",
       "      <th>3</th>\n",
       "      <td>1</td>\n",
       "      <td>1</td>\n",
       "      <td>0</td>\n",
       "      <td>0</td>\n",
       "      <td>1</td>\n",
       "      <td>0</td>\n",
       "    </tr>\n",
       "    <tr>\n",
       "      <th>4</th>\n",
       "      <td>1</td>\n",
       "      <td>1</td>\n",
       "      <td>1</td>\n",
       "      <td>0</td>\n",
       "      <td>1</td>\n",
       "      <td>1</td>\n",
       "    </tr>\n",
       "    <tr>\n",
       "      <th>...</th>\n",
       "      <td>...</td>\n",
       "      <td>...</td>\n",
       "      <td>...</td>\n",
       "      <td>...</td>\n",
       "      <td>...</td>\n",
       "      <td>...</td>\n",
       "    </tr>\n",
       "    <tr>\n",
       "      <th>1471</th>\n",
       "      <td>1</td>\n",
       "      <td>0</td>\n",
       "      <td>1</td>\n",
       "      <td>0</td>\n",
       "      <td>1</td>\n",
       "      <td>1</td>\n",
       "    </tr>\n",
       "    <tr>\n",
       "      <th>1472</th>\n",
       "      <td>1</td>\n",
       "      <td>1</td>\n",
       "      <td>0</td>\n",
       "      <td>0</td>\n",
       "      <td>0</td>\n",
       "      <td>0</td>\n",
       "    </tr>\n",
       "    <tr>\n",
       "      <th>1473</th>\n",
       "      <td>1</td>\n",
       "      <td>1</td>\n",
       "      <td>1</td>\n",
       "      <td>0</td>\n",
       "      <td>0</td>\n",
       "      <td>0</td>\n",
       "    </tr>\n",
       "    <tr>\n",
       "      <th>1474</th>\n",
       "      <td>1</td>\n",
       "      <td>1</td>\n",
       "      <td>0</td>\n",
       "      <td>0</td>\n",
       "      <td>1</td>\n",
       "      <td>0</td>\n",
       "    </tr>\n",
       "    <tr>\n",
       "      <th>1475</th>\n",
       "      <td>1</td>\n",
       "      <td>1</td>\n",
       "      <td>0</td>\n",
       "      <td>0</td>\n",
       "      <td>1</td>\n",
       "      <td>1</td>\n",
       "    </tr>\n",
       "  </tbody>\n",
       "</table>\n",
       "<p>1476 rows × 6 columns</p>\n",
       "</div>"
      ],
      "text/plain": [
       "      metabolic  alcohol  stress  smoke  walk  gym\n",
       "0             1        1       0      0     1    0\n",
       "1             1        1       0      0     1    0\n",
       "2             1        1       1      0     1    0\n",
       "3             1        1       0      0     1    0\n",
       "4             1        1       1      0     1    1\n",
       "...         ...      ...     ...    ...   ...  ...\n",
       "1471          1        0       1      0     1    1\n",
       "1472          1        1       0      0     0    0\n",
       "1473          1        1       1      0     0    0\n",
       "1474          1        1       0      0     1    0\n",
       "1475          1        1       0      0     1    1\n",
       "\n",
       "[1476 rows x 6 columns]"
      ]
     },
     "execution_count": 49,
     "metadata": {},
     "output_type": "execute_result"
    }
   ],
   "source": [
    "td.drop(td[(td['metabolic'] == 0)].index, inplace=True)\n",
    "td.reset_index(drop=True)"
   ]
  },
  {
   "cell_type": "code",
   "execution_count": 50,
   "metadata": {
    "id": "lcCu5FfNvxBP",
    "outputId": "7b8d65d9-f36b-441c-c21c-aa53ea7c73d3"
   },
   "outputs": [
    {
     "data": {
      "text/html": [
       "<div>\n",
       "<style scoped>\n",
       "    .dataframe tbody tr th:only-of-type {\n",
       "        vertical-align: middle;\n",
       "    }\n",
       "\n",
       "    .dataframe tbody tr th {\n",
       "        vertical-align: top;\n",
       "    }\n",
       "\n",
       "    .dataframe thead th {\n",
       "        text-align: right;\n",
       "    }\n",
       "</style>\n",
       "<table border=\"1\" class=\"dataframe\">\n",
       "  <thead>\n",
       "    <tr style=\"text-align: right;\">\n",
       "      <th></th>\n",
       "      <th>metabolic</th>\n",
       "      <th>alcohol</th>\n",
       "      <th>stress</th>\n",
       "      <th>smoke</th>\n",
       "      <th>walk</th>\n",
       "      <th>gym</th>\n",
       "    </tr>\n",
       "  </thead>\n",
       "  <tbody>\n",
       "    <tr>\n",
       "      <th>count</th>\n",
       "      <td>1476.0</td>\n",
       "      <td>1476.000000</td>\n",
       "      <td>1476.000000</td>\n",
       "      <td>1476.000000</td>\n",
       "      <td>1476.000000</td>\n",
       "      <td>1476.000000</td>\n",
       "    </tr>\n",
       "    <tr>\n",
       "      <th>mean</th>\n",
       "      <td>1.0</td>\n",
       "      <td>0.960705</td>\n",
       "      <td>0.623306</td>\n",
       "      <td>0.288618</td>\n",
       "      <td>0.497967</td>\n",
       "      <td>0.224255</td>\n",
       "    </tr>\n",
       "    <tr>\n",
       "      <th>std</th>\n",
       "      <td>0.0</td>\n",
       "      <td>0.194363</td>\n",
       "      <td>0.484721</td>\n",
       "      <td>0.453273</td>\n",
       "      <td>0.500165</td>\n",
       "      <td>0.417232</td>\n",
       "    </tr>\n",
       "    <tr>\n",
       "      <th>min</th>\n",
       "      <td>1.0</td>\n",
       "      <td>0.000000</td>\n",
       "      <td>0.000000</td>\n",
       "      <td>0.000000</td>\n",
       "      <td>0.000000</td>\n",
       "      <td>0.000000</td>\n",
       "    </tr>\n",
       "    <tr>\n",
       "      <th>25%</th>\n",
       "      <td>1.0</td>\n",
       "      <td>1.000000</td>\n",
       "      <td>0.000000</td>\n",
       "      <td>0.000000</td>\n",
       "      <td>0.000000</td>\n",
       "      <td>0.000000</td>\n",
       "    </tr>\n",
       "    <tr>\n",
       "      <th>50%</th>\n",
       "      <td>1.0</td>\n",
       "      <td>1.000000</td>\n",
       "      <td>1.000000</td>\n",
       "      <td>0.000000</td>\n",
       "      <td>0.000000</td>\n",
       "      <td>0.000000</td>\n",
       "    </tr>\n",
       "    <tr>\n",
       "      <th>75%</th>\n",
       "      <td>1.0</td>\n",
       "      <td>1.000000</td>\n",
       "      <td>1.000000</td>\n",
       "      <td>1.000000</td>\n",
       "      <td>1.000000</td>\n",
       "      <td>0.000000</td>\n",
       "    </tr>\n",
       "    <tr>\n",
       "      <th>max</th>\n",
       "      <td>1.0</td>\n",
       "      <td>1.000000</td>\n",
       "      <td>1.000000</td>\n",
       "      <td>1.000000</td>\n",
       "      <td>1.000000</td>\n",
       "      <td>1.000000</td>\n",
       "    </tr>\n",
       "  </tbody>\n",
       "</table>\n",
       "</div>"
      ],
      "text/plain": [
       "       metabolic      alcohol       stress        smoke         walk  \\\n",
       "count     1476.0  1476.000000  1476.000000  1476.000000  1476.000000   \n",
       "mean         1.0     0.960705     0.623306     0.288618     0.497967   \n",
       "std          0.0     0.194363     0.484721     0.453273     0.500165   \n",
       "min          1.0     0.000000     0.000000     0.000000     0.000000   \n",
       "25%          1.0     1.000000     0.000000     0.000000     0.000000   \n",
       "50%          1.0     1.000000     1.000000     0.000000     0.000000   \n",
       "75%          1.0     1.000000     1.000000     1.000000     1.000000   \n",
       "max          1.0     1.000000     1.000000     1.000000     1.000000   \n",
       "\n",
       "               gym  \n",
       "count  1476.000000  \n",
       "mean      0.224255  \n",
       "std       0.417232  \n",
       "min       0.000000  \n",
       "25%       0.000000  \n",
       "50%       0.000000  \n",
       "75%       0.000000  \n",
       "max       1.000000  "
      ]
     },
     "execution_count": 50,
     "metadata": {},
     "output_type": "execute_result"
    }
   ],
   "source": [
    "td.describe()"
   ]
  },
  {
   "cell_type": "code",
   "execution_count": 51,
   "metadata": {
    "id": "-45goxUmvxBQ",
    "outputId": "5eb3ebb1-b663-487f-a4c6-730edd39ed71"
   },
   "outputs": [
    {
     "name": "stderr",
     "output_type": "stream",
     "text": [
      "<ipython-input-51-f61e5d27fb7f>:1: SettingWithCopyWarning: \n",
      "A value is trying to be set on a copy of a slice from a DataFrame.\n",
      "Try using .loc[row_indexer,col_indexer] = value instead\n",
      "\n",
      "See the caveats in the documentation: https://pandas.pydata.org/pandas-docs/stable/user_guide/indexing.html#returning-a-view-versus-a-copy\n",
      "  td['alcohol'] = td['alcohol'].apply(lambda x: 1 if x >= 1 else 0)\n",
      "<ipython-input-51-f61e5d27fb7f>:2: SettingWithCopyWarning: \n",
      "A value is trying to be set on a copy of a slice from a DataFrame.\n",
      "Try using .loc[row_indexer,col_indexer] = value instead\n",
      "\n",
      "See the caveats in the documentation: https://pandas.pydata.org/pandas-docs/stable/user_guide/indexing.html#returning-a-view-versus-a-copy\n",
      "  td['smoke'] = td['smoke'].apply(lambda x: 1 if x >= 1 else 0)\n",
      "<ipython-input-51-f61e5d27fb7f>:3: SettingWithCopyWarning: \n",
      "A value is trying to be set on a copy of a slice from a DataFrame.\n",
      "Try using .loc[row_indexer,col_indexer] = value instead\n",
      "\n",
      "See the caveats in the documentation: https://pandas.pydata.org/pandas-docs/stable/user_guide/indexing.html#returning-a-view-versus-a-copy\n",
      "  td['gym'] = td['gym'].apply(lambda x: 1 if x > 1 else 0)\n",
      "<ipython-input-51-f61e5d27fb7f>:5: SettingWithCopyWarning: \n",
      "A value is trying to be set on a copy of a slice from a DataFrame.\n",
      "Try using .loc[row_indexer,col_indexer] = value instead\n",
      "\n",
      "See the caveats in the documentation: https://pandas.pydata.org/pandas-docs/stable/user_guide/indexing.html#returning-a-view-versus-a-copy\n",
      "  td['stress'] = td['stress'].apply(lambda x: 1 if x >= 3 else 0)\n",
      "<ipython-input-51-f61e5d27fb7f>:6: SettingWithCopyWarning: \n",
      "A value is trying to be set on a copy of a slice from a DataFrame.\n",
      "Try using .loc[row_indexer,col_indexer] = value instead\n",
      "\n",
      "See the caveats in the documentation: https://pandas.pydata.org/pandas-docs/stable/user_guide/indexing.html#returning-a-view-versus-a-copy\n",
      "  td['walk'] = td['walk'].apply(lambda x: 1 if x >= 5 else 0)\n"
     ]
    }
   ],
   "source": [
    "td['alcohol'] = td['alcohol'].apply(lambda x: 1 if x >= 1 else 0)\n",
    "td['smoke'] = td['smoke'].apply(lambda x: 1 if x >= 1 else 0)\n",
    "td['gym'] = td['gym'].apply(lambda x: 1 if x > 1 else 0)\n",
    "\n",
    "td['stress'] = td['stress'].apply(lambda x: 1 if x >= 3 else 0)\n",
    "td['walk'] = td['walk'].apply(lambda x: 1 if x >= 5 else 0)"
   ]
  },
  {
   "attachments": {},
   "cell_type": "markdown",
   "metadata": {
    "id": "CGDU2k1CvxBR"
   },
   "source": [
    "### Convert Dataset to Transaction Dataset"
   ]
  },
  {
   "cell_type": "code",
   "execution_count": 52,
   "metadata": {
    "id": "WQKF4revvxBR"
   },
   "outputs": [],
   "source": [
    "import pandas as pd\n",
    "from mlxtend.preprocessing import TransactionEncoder\n",
    "from mlxtend.frequent_patterns import apriori\n",
    "from mlxtend.frequent_patterns import association_rules"
   ]
  },
  {
   "cell_type": "code",
   "execution_count": 53,
   "metadata": {
    "id": "z39ttt7GvxBR",
    "outputId": "201dd184-05bd-41b6-bc42-9bcc6180ba6f"
   },
   "outputs": [
    {
     "name": "stderr",
     "output_type": "stream",
     "text": [
      "C:\\ProgramData\\Anaconda3\\lib\\site-packages\\ipykernel\\ipkernel.py:287: DeprecationWarning: `should_run_async` will not call `transform_cell` automatically in the future. Please pass the result to `transformed_cell` argument and any exception that happen during thetransform in `preprocessing_exc_tuple` in IPython 7.17 and above.\n",
      "  and should_run_async(code)\n",
      "C:\\ProgramData\\Anaconda3\\lib\\site-packages\\mlxtend\\frequent_patterns\\fpcommon.py:110: DeprecationWarning: DataFrames with non-bool types result in worse computationalperformance and their support might be discontinued in the future.Please use a DataFrame with bool type\n",
      "  warnings.warn(\n"
     ]
    },
    {
     "data": {
      "text/html": [
       "<div>\n",
       "<style scoped>\n",
       "    .dataframe tbody tr th:only-of-type {\n",
       "        vertical-align: middle;\n",
       "    }\n",
       "\n",
       "    .dataframe tbody tr th {\n",
       "        vertical-align: top;\n",
       "    }\n",
       "\n",
       "    .dataframe thead th {\n",
       "        text-align: right;\n",
       "    }\n",
       "</style>\n",
       "<table border=\"1\" class=\"dataframe\">\n",
       "  <thead>\n",
       "    <tr style=\"text-align: right;\">\n",
       "      <th></th>\n",
       "      <th>antecedents</th>\n",
       "      <th>consequents</th>\n",
       "      <th>antecedent support</th>\n",
       "      <th>consequent support</th>\n",
       "      <th>support</th>\n",
       "      <th>confidence</th>\n",
       "      <th>lift</th>\n",
       "      <th>leverage</th>\n",
       "      <th>conviction</th>\n",
       "      <th>zhangs_metric</th>\n",
       "    </tr>\n",
       "  </thead>\n",
       "  <tbody>\n",
       "    <tr>\n",
       "      <th>5</th>\n",
       "      <td>(alcohol)</td>\n",
       "      <td>(smoke)</td>\n",
       "      <td>0.960705</td>\n",
       "      <td>0.288618</td>\n",
       "      <td>0.285908</td>\n",
       "      <td>0.297602</td>\n",
       "      <td>1.031129</td>\n",
       "      <td>0.008631</td>\n",
       "      <td>1.012791</td>\n",
       "      <td>0.768263</td>\n",
       "    </tr>\n",
       "    <tr>\n",
       "      <th>8</th>\n",
       "      <td>(metabolic, alcohol)</td>\n",
       "      <td>(smoke)</td>\n",
       "      <td>0.960705</td>\n",
       "      <td>0.288618</td>\n",
       "      <td>0.285908</td>\n",
       "      <td>0.297602</td>\n",
       "      <td>1.031129</td>\n",
       "      <td>0.008631</td>\n",
       "      <td>1.012791</td>\n",
       "      <td>0.768263</td>\n",
       "    </tr>\n",
       "    <tr>\n",
       "      <th>11</th>\n",
       "      <td>(alcohol)</td>\n",
       "      <td>(smoke, metabolic)</td>\n",
       "      <td>0.960705</td>\n",
       "      <td>0.288618</td>\n",
       "      <td>0.285908</td>\n",
       "      <td>0.297602</td>\n",
       "      <td>1.031129</td>\n",
       "      <td>0.008631</td>\n",
       "      <td>1.012791</td>\n",
       "      <td>0.768263</td>\n",
       "    </tr>\n",
       "    <tr>\n",
       "      <th>4</th>\n",
       "      <td>(smoke)</td>\n",
       "      <td>(alcohol)</td>\n",
       "      <td>0.288618</td>\n",
       "      <td>0.960705</td>\n",
       "      <td>0.285908</td>\n",
       "      <td>0.990610</td>\n",
       "      <td>1.031129</td>\n",
       "      <td>0.008631</td>\n",
       "      <td>4.184959</td>\n",
       "      <td>0.042437</td>\n",
       "    </tr>\n",
       "    <tr>\n",
       "      <th>6</th>\n",
       "      <td>(smoke, metabolic)</td>\n",
       "      <td>(alcohol)</td>\n",
       "      <td>0.288618</td>\n",
       "      <td>0.960705</td>\n",
       "      <td>0.285908</td>\n",
       "      <td>0.990610</td>\n",
       "      <td>1.031129</td>\n",
       "      <td>0.008631</td>\n",
       "      <td>4.184959</td>\n",
       "      <td>0.042437</td>\n",
       "    </tr>\n",
       "    <tr>\n",
       "      <th>9</th>\n",
       "      <td>(smoke)</td>\n",
       "      <td>(metabolic, alcohol)</td>\n",
       "      <td>0.288618</td>\n",
       "      <td>0.960705</td>\n",
       "      <td>0.285908</td>\n",
       "      <td>0.990610</td>\n",
       "      <td>1.031129</td>\n",
       "      <td>0.008631</td>\n",
       "      <td>4.184959</td>\n",
       "      <td>0.042437</td>\n",
       "    </tr>\n",
       "    <tr>\n",
       "      <th>0</th>\n",
       "      <td>(metabolic)</td>\n",
       "      <td>(alcohol)</td>\n",
       "      <td>1.000000</td>\n",
       "      <td>0.960705</td>\n",
       "      <td>0.960705</td>\n",
       "      <td>0.960705</td>\n",
       "      <td>1.000000</td>\n",
       "      <td>0.000000</td>\n",
       "      <td>1.000000</td>\n",
       "      <td>0.000000</td>\n",
       "    </tr>\n",
       "    <tr>\n",
       "      <th>1</th>\n",
       "      <td>(alcohol)</td>\n",
       "      <td>(metabolic)</td>\n",
       "      <td>0.960705</td>\n",
       "      <td>1.000000</td>\n",
       "      <td>0.960705</td>\n",
       "      <td>1.000000</td>\n",
       "      <td>1.000000</td>\n",
       "      <td>0.000000</td>\n",
       "      <td>inf</td>\n",
       "      <td>0.000000</td>\n",
       "    </tr>\n",
       "    <tr>\n",
       "      <th>2</th>\n",
       "      <td>(smoke)</td>\n",
       "      <td>(metabolic)</td>\n",
       "      <td>0.288618</td>\n",
       "      <td>1.000000</td>\n",
       "      <td>0.288618</td>\n",
       "      <td>1.000000</td>\n",
       "      <td>1.000000</td>\n",
       "      <td>0.000000</td>\n",
       "      <td>inf</td>\n",
       "      <td>0.000000</td>\n",
       "    </tr>\n",
       "    <tr>\n",
       "      <th>3</th>\n",
       "      <td>(metabolic)</td>\n",
       "      <td>(smoke)</td>\n",
       "      <td>1.000000</td>\n",
       "      <td>0.288618</td>\n",
       "      <td>0.288618</td>\n",
       "      <td>0.288618</td>\n",
       "      <td>1.000000</td>\n",
       "      <td>0.000000</td>\n",
       "      <td>1.000000</td>\n",
       "      <td>0.000000</td>\n",
       "    </tr>\n",
       "    <tr>\n",
       "      <th>7</th>\n",
       "      <td>(smoke, alcohol)</td>\n",
       "      <td>(metabolic)</td>\n",
       "      <td>0.285908</td>\n",
       "      <td>1.000000</td>\n",
       "      <td>0.285908</td>\n",
       "      <td>1.000000</td>\n",
       "      <td>1.000000</td>\n",
       "      <td>0.000000</td>\n",
       "      <td>inf</td>\n",
       "      <td>0.000000</td>\n",
       "    </tr>\n",
       "    <tr>\n",
       "      <th>10</th>\n",
       "      <td>(metabolic)</td>\n",
       "      <td>(smoke, alcohol)</td>\n",
       "      <td>1.000000</td>\n",
       "      <td>0.285908</td>\n",
       "      <td>0.285908</td>\n",
       "      <td>0.285908</td>\n",
       "      <td>1.000000</td>\n",
       "      <td>0.000000</td>\n",
       "      <td>1.000000</td>\n",
       "      <td>0.000000</td>\n",
       "    </tr>\n",
       "  </tbody>\n",
       "</table>\n",
       "</div>"
      ],
      "text/plain": [
       "             antecedents           consequents  antecedent support  \\\n",
       "5              (alcohol)               (smoke)            0.960705   \n",
       "8   (metabolic, alcohol)               (smoke)            0.960705   \n",
       "11             (alcohol)    (smoke, metabolic)            0.960705   \n",
       "4                (smoke)             (alcohol)            0.288618   \n",
       "6     (smoke, metabolic)             (alcohol)            0.288618   \n",
       "9                (smoke)  (metabolic, alcohol)            0.288618   \n",
       "0            (metabolic)             (alcohol)            1.000000   \n",
       "1              (alcohol)           (metabolic)            0.960705   \n",
       "2                (smoke)           (metabolic)            0.288618   \n",
       "3            (metabolic)               (smoke)            1.000000   \n",
       "7       (smoke, alcohol)           (metabolic)            0.285908   \n",
       "10           (metabolic)      (smoke, alcohol)            1.000000   \n",
       "\n",
       "    consequent support   support  confidence      lift  leverage  conviction  \\\n",
       "5             0.288618  0.285908    0.297602  1.031129  0.008631    1.012791   \n",
       "8             0.288618  0.285908    0.297602  1.031129  0.008631    1.012791   \n",
       "11            0.288618  0.285908    0.297602  1.031129  0.008631    1.012791   \n",
       "4             0.960705  0.285908    0.990610  1.031129  0.008631    4.184959   \n",
       "6             0.960705  0.285908    0.990610  1.031129  0.008631    4.184959   \n",
       "9             0.960705  0.285908    0.990610  1.031129  0.008631    4.184959   \n",
       "0             0.960705  0.960705    0.960705  1.000000  0.000000    1.000000   \n",
       "1             1.000000  0.960705    1.000000  1.000000  0.000000         inf   \n",
       "2             1.000000  0.288618    1.000000  1.000000  0.000000         inf   \n",
       "3             0.288618  0.288618    0.288618  1.000000  0.000000    1.000000   \n",
       "7             1.000000  0.285908    1.000000  1.000000  0.000000         inf   \n",
       "10            0.285908  0.285908    0.285908  1.000000  0.000000    1.000000   \n",
       "\n",
       "    zhangs_metric  \n",
       "5        0.768263  \n",
       "8        0.768263  \n",
       "11       0.768263  \n",
       "4        0.042437  \n",
       "6        0.042437  \n",
       "9        0.042437  \n",
       "0        0.000000  \n",
       "1        0.000000  \n",
       "2        0.000000  \n",
       "3        0.000000  \n",
       "7        0.000000  \n",
       "10       0.000000  "
      ]
     },
     "execution_count": 53,
     "metadata": {},
     "output_type": "execute_result"
    }
   ],
   "source": [
    "te = TransactionEncoder()\n",
    "te_result = te.fit(td).transform(td)\n",
    "\n",
    "# Create the Apriori model\n",
    "model = apriori(td, min_support=0.1, use_colnames=True)\n",
    "\n",
    "# Create the association rules\n",
    "rules = association_rules(model, metric=\"lift\", min_threshold=0.5).sort_values(by = ['lift'], ascending =False)\n",
    "rules"
   ]
  },
  {
   "attachments": {},
   "cell_type": "markdown",
   "metadata": {
    "id": "syL7W1MhvxBS"
   },
   "source": [
    "# 2. Nutrients Modeling By Discretization"
   ]
  },
  {
   "attachments": {},
   "cell_type": "markdown",
   "metadata": {
    "id": "35fiKG39vxBS"
   },
   "source": [
    "## Dataset Load"
   ]
  },
  {
   "cell_type": "code",
   "execution_count": 54,
   "metadata": {
    "id": "paw5ImyXvxBT",
    "outputId": "2ae353b6-bb1f-41e5-faf5-92fca93f1b03"
   },
   "outputs": [
    {
     "name": "stderr",
     "output_type": "stream",
     "text": [
      "C:\\ProgramData\\Anaconda3\\lib\\site-packages\\ipykernel\\ipkernel.py:287: DeprecationWarning: `should_run_async` will not call `transform_cell` automatically in the future. Please pass the result to `transformed_cell` argument and any exception that happen during thetransform in `preprocessing_exc_tuple` in IPython 7.17 and above.\n",
      "  and should_run_async(code)\n"
     ]
    }
   ],
   "source": [
    "df = pd.read_csv('new_dataset.csv')"
   ]
  },
  {
   "attachments": {},
   "cell_type": "markdown",
   "metadata": {
    "id": "0_POm4vFw6qk"
   },
   "source": [
    "## Preprocessing"
   ]
  },
  {
   "cell_type": "code",
   "execution_count": 55,
   "metadata": {
    "id": "fpLWnPVovxBU",
    "outputId": "8252d395-8af6-4d06-9620-247ad3c8a40a"
   },
   "outputs": [
    {
     "name": "stderr",
     "output_type": "stream",
     "text": [
      "C:\\ProgramData\\Anaconda3\\lib\\site-packages\\ipykernel\\ipkernel.py:287: DeprecationWarning: `should_run_async` will not call `transform_cell` automatically in the future. Please pass the result to `transformed_cell` argument and any exception that happen during thetransform in `preprocessing_exc_tuple` in IPython 7.17 and above.\n",
      "  and should_run_async(code)\n"
     ]
    }
   ],
   "source": [
    "df.drop('Unnamed: 0', axis=1, inplace=True)\n",
    "df = df.rename(columns={\"alchol\":\"alcohol\"})"
   ]
  },
  {
   "attachments": {},
   "cell_type": "markdown",
   "metadata": {
    "id": "DFD9ruPSvxBV"
   },
   "source": [
    "##  Wrapper Approach"
   ]
  },
  {
   "cell_type": "code",
   "execution_count": 56,
   "metadata": {
    "id": "NWfJJrxvvxBW",
    "outputId": "e00978da-4eaa-4c67-83d1-f8298a5324b9"
   },
   "outputs": [
    {
     "name": "stderr",
     "output_type": "stream",
     "text": [
      "C:\\ProgramData\\Anaconda3\\lib\\site-packages\\ipykernel\\ipkernel.py:287: DeprecationWarning: `should_run_async` will not call `transform_cell` automatically in the future. Please pass the result to `transformed_cell` argument and any exception that happen during thetransform in `preprocessing_exc_tuple` in IPython 7.17 and above.\n",
      "  and should_run_async(code)\n"
     ]
    },
    {
     "data": {
      "text/plain": [
       "\"\\ncor_feature = ['phosphorus', 'carotene' , 'sa_fat', 'mono_unsa_fat', 'n6_fat','kalium','vitamin_b3']\\ncor_size = len(cor_feature)\\ncor_pow = []\\nfor i in range(2**cor_size):\\n    flag = bin(i)[2:].zfill(cor_size)\\n    subset = [cor_feature[j] for j in range(cor_size) if flag[j] == '1']\\n    cor_pow.append(subset)\\n    \""
      ]
     },
     "execution_count": 56,
     "metadata": {},
     "output_type": "execute_result"
    }
   ],
   "source": [
    "'''\n",
    "cor_feature = ['phosphorus', 'carotene' , 'sa_fat', 'mono_unsa_fat', 'n6_fat','kalium','vitamin_b3']\n",
    "cor_size = len(cor_feature)\n",
    "cor_pow = []\n",
    "for i in range(2**cor_size):\n",
    "    flag = bin(i)[2:].zfill(cor_size)\n",
    "    subset = [cor_feature[j] for j in range(cor_size) if flag[j] == '1']\n",
    "    cor_pow.append(subset)\n",
    "    '''"
   ]
  },
  {
   "cell_type": "code",
   "execution_count": 57,
   "metadata": {
    "id": "WTMl6unNvxBX",
    "outputId": "74bb9ceb-e552-4715-e5cf-2f5962c3c0ad"
   },
   "outputs": [
    {
     "name": "stderr",
     "output_type": "stream",
     "text": [
      "C:\\ProgramData\\Anaconda3\\lib\\site-packages\\ipykernel\\ipkernel.py:287: DeprecationWarning: `should_run_async` will not call `transform_cell` automatically in the future. Please pass the result to `transformed_cell` argument and any exception that happen during thetransform in `preprocessing_exc_tuple` in IPython 7.17 and above.\n",
      "  and should_run_async(code)\n"
     ]
    },
    {
     "data": {
      "text/plain": [
       "\"\\nmax_string = ''\\nmax_num = 0;\\nfor i in cor_pow:\\n    new_x_train = X_train.drop(columns=i)\\n    new_x_test = X_test.drop(columns=i)\\n    log_reg = LogisticRegression(C=1,penalty='l2', class_weight=class_weight)\\n    log_reg.fit(new_x_train,y_train)\\n    log_acc=accuracy_score(y_test,log_reg.predict(new_x_test))\\n    predict = log_reg.predict(new_x_test)\\n    score = accuracy_score(y_test,log_reg.predict(new_x_test))*100\\n    if(max_num <= score):\\n        max_string = i\\n        max_num = score\\nprint(max_string, max_num)\\n\""
      ]
     },
     "execution_count": 57,
     "metadata": {},
     "output_type": "execute_result"
    }
   ],
   "source": [
    "'''\n",
    "max_string = ''\n",
    "max_num = 0;\n",
    "for i in cor_pow:\n",
    "    new_x_train = X_train.drop(columns=i)\n",
    "    new_x_test = X_test.drop(columns=i)\n",
    "    log_reg = LogisticRegression(C=1,penalty='l2', class_weight=class_weight)\n",
    "    log_reg.fit(new_x_train,y_train)\n",
    "    log_acc=accuracy_score(y_test,log_reg.predict(new_x_test))\n",
    "    predict = log_reg.predict(new_x_test)\n",
    "    score = accuracy_score(y_test,log_reg.predict(new_x_test))*100\n",
    "    if(max_num <= score):\n",
    "        max_string = i\n",
    "        max_num = score\n",
    "print(max_string, max_num)\n",
    "'''"
   ]
  },
  {
   "attachments": {},
   "cell_type": "markdown",
   "metadata": {
    "id": "iCki2gOqvxBX"
   },
   "source": [
    "## 남성과 여성의 영양소 기준치"
   ]
  },
  {
   "cell_type": "code",
   "execution_count": 58,
   "metadata": {
    "id": "BwLMeexBvxBY",
    "outputId": "132d72be-92f3-4710-e7c6-e1614a6b00de"
   },
   "outputs": [
    {
     "name": "stderr",
     "output_type": "stream",
     "text": [
      "C:\\ProgramData\\Anaconda3\\lib\\site-packages\\ipykernel\\ipkernel.py:287: DeprecationWarning: `should_run_async` will not call `transform_cell` automatically in the future. Please pass the result to `transformed_cell` argument and any exception that happen during thetransform in `preprocessing_exc_tuple` in IPython 7.17 and above.\n",
      "  and should_run_async(code)\n"
     ]
    }
   ],
   "source": [
    "male_nutri = [2550,1200,65,30, 7,17.0,12.8,1.5,12.25, \n",
    "        300,130, 30,50, 800,700, 1500,3500, 365, 10,10, 565, 10,12, 2225,1.2,1.5, 16.0,400.0, 100]\n",
    "\n",
    "female_nutri = [1950,1000,52.5,30,7,14.1,11.0,1.2,9.25,300,130,20,50,700,700,1500,3500,280,14,8,\n",
    "          455,10,12,1773,1.1,1,14.0,400.0,100]"
   ]
  },
  {
   "attachments": {},
   "cell_type": "markdown",
   "metadata": {
    "id": "PzRJ7TOWvxBZ"
   },
   "source": [
    "## 남성과 여성에 대한 Dataset 구분"
   ]
  },
  {
   "cell_type": "code",
   "execution_count": 59,
   "metadata": {
    "id": "cyRWZt6TvxBZ",
    "outputId": "dee9b5c0-d238-4633-ce10-899b148a37ea"
   },
   "outputs": [
    {
     "name": "stderr",
     "output_type": "stream",
     "text": [
      "C:\\ProgramData\\Anaconda3\\lib\\site-packages\\ipykernel\\ipkernel.py:287: DeprecationWarning: `should_run_async` will not call `transform_cell` automatically in the future. Please pass the result to `transformed_cell` argument and any exception that happen during thetransform in `preprocessing_exc_tuple` in IPython 7.17 and above.\n",
      "  and should_run_async(code)\n"
     ]
    }
   ],
   "source": [
    "male_df = df[df['sex'] == 1]\n",
    "female_df = df[df['sex']== 2]"
   ]
  },
  {
   "cell_type": "code",
   "execution_count": 60,
   "metadata": {
    "id": "CV5jv8KlvxBa",
    "outputId": "b462d77f-fa54-4cbb-ed82-f46b4b5aad87"
   },
   "outputs": [
    {
     "name": "stderr",
     "output_type": "stream",
     "text": [
      "C:\\ProgramData\\Anaconda3\\lib\\site-packages\\ipykernel\\ipkernel.py:287: DeprecationWarning: `should_run_async` will not call `transform_cell` automatically in the future. Please pass the result to `transformed_cell` argument and any exception that happen during thetransform in `preprocessing_exc_tuple` in IPython 7.17 and above.\n",
      "  and should_run_async(code)\n",
      "<ipython-input-60-82aeea5c411a>:12: SettingWithCopyWarning: \n",
      "A value is trying to be set on a copy of a slice from a DataFrame.\n",
      "Try using .loc[row_indexer,col_indexer] = value instead\n",
      "\n",
      "See the caveats in the documentation: https://pandas.pydata.org/pandas-docs/stable/user_guide/indexing.html#returning-a-view-versus-a-copy\n",
      "  male_df[column] = np.digitize(male_df[column], bins)\n"
     ]
    }
   ],
   "source": [
    "for i in range(len(nutri_col)):\n",
    "    column = nutri_col[i]\n",
    "    standard = male_nutri[i]\n",
    "    bins = [0]\n",
    "    bins.append(standard*0.375)\n",
    "    bins.append(standard*0.75)\n",
    "    bins.append(standard*1.25)\n",
    "    bins.append(standard*2)\n",
    "    bins.append(standard*3)\n",
    "    max_num = male_df[column].max()\n",
    "    bins.append(max_num *10)\n",
    "    male_df[column] = np.digitize(male_df[column], bins)"
   ]
  },
  {
   "cell_type": "code",
   "execution_count": 61,
   "metadata": {
    "id": "WQX0aYe8vxBa",
    "outputId": "a0521af0-9b2d-40bd-d804-8d4694c08847"
   },
   "outputs": [
    {
     "name": "stderr",
     "output_type": "stream",
     "text": [
      "C:\\ProgramData\\Anaconda3\\lib\\site-packages\\ipykernel\\ipkernel.py:287: DeprecationWarning: `should_run_async` will not call `transform_cell` automatically in the future. Please pass the result to `transformed_cell` argument and any exception that happen during thetransform in `preprocessing_exc_tuple` in IPython 7.17 and above.\n",
      "  and should_run_async(code)\n",
      "<ipython-input-61-e696fc9df215>:12: SettingWithCopyWarning: \n",
      "A value is trying to be set on a copy of a slice from a DataFrame.\n",
      "Try using .loc[row_indexer,col_indexer] = value instead\n",
      "\n",
      "See the caveats in the documentation: https://pandas.pydata.org/pandas-docs/stable/user_guide/indexing.html#returning-a-view-versus-a-copy\n",
      "  female_df[column] = np.digitize(female_df[column], bins)\n"
     ]
    }
   ],
   "source": [
    "for i in range(len(nutri_col)):\n",
    "    column = nutri_col[i]\n",
    "    standard = female_nutri[i]\n",
    "    bins = [0]\n",
    "    bins.append(standard*0.375)\n",
    "    bins.append(standard*0.75)\n",
    "    bins.append(standard*1.25)\n",
    "    bins.append(standard*2)\n",
    "    bins.append(standard*3)\n",
    "    max_num = female_df[column].max()\n",
    "    bins.append(max_num *10)\n",
    "    female_df[column] = np.digitize(female_df[column], bins)"
   ]
  },
  {
   "cell_type": "code",
   "execution_count": 62,
   "metadata": {
    "id": "-Cqv2EfxvxBb",
    "outputId": "63661207-3c83-4e27-925a-69542d88bf53"
   },
   "outputs": [
    {
     "name": "stderr",
     "output_type": "stream",
     "text": [
      "C:\\ProgramData\\Anaconda3\\lib\\site-packages\\ipykernel\\ipkernel.py:287: DeprecationWarning: `should_run_async` will not call `transform_cell` automatically in the future. Please pass the result to `transformed_cell` argument and any exception that happen during thetransform in `preprocessing_exc_tuple` in IPython 7.17 and above.\n",
      "  and should_run_async(code)\n"
     ]
    }
   ],
   "source": [
    "X1 = male_df.drop(columns=meta_col)\n",
    "y1 = male_df['metabolic'] # target"
   ]
  },
  {
   "cell_type": "code",
   "execution_count": 63,
   "metadata": {
    "id": "cWEooab7vxBb",
    "outputId": "8fd49ade-fdcb-4858-b9a8-9552e490a24d"
   },
   "outputs": [
    {
     "name": "stderr",
     "output_type": "stream",
     "text": [
      "C:\\ProgramData\\Anaconda3\\lib\\site-packages\\ipykernel\\ipkernel.py:287: DeprecationWarning: `should_run_async` will not call `transform_cell` automatically in the future. Please pass the result to `transformed_cell` argument and any exception that happen during thetransform in `preprocessing_exc_tuple` in IPython 7.17 and above.\n",
      "  and should_run_async(code)\n"
     ]
    }
   ],
   "source": [
    "X2 = female_df.drop(columns=meta_col)\n",
    "y2 = female_df['metabolic'] # target"
   ]
  },
  {
   "cell_type": "code",
   "execution_count": 64,
   "metadata": {
    "id": "jmoVTvNgvxBc",
    "outputId": "08c5d7e3-412f-4488-f861-792b513fe017"
   },
   "outputs": [
    {
     "name": "stderr",
     "output_type": "stream",
     "text": [
      "C:\\ProgramData\\Anaconda3\\lib\\site-packages\\ipykernel\\ipkernel.py:287: DeprecationWarning: `should_run_async` will not call `transform_cell` automatically in the future. Please pass the result to `transformed_cell` argument and any exception that happen during thetransform in `preprocessing_exc_tuple` in IPython 7.17 and above.\n",
      "  and should_run_async(code)\n"
     ]
    }
   ],
   "source": [
    "X = pd.concat([X1,X2])\n",
    "y = pd.concat([y1,y2])"
   ]
  },
  {
   "cell_type": "code",
   "execution_count": 65,
   "metadata": {
    "id": "Zl2SHcIgvxBd",
    "outputId": "f052b93f-ef25-4b84-e668-bc381a720a94"
   },
   "outputs": [
    {
     "name": "stderr",
     "output_type": "stream",
     "text": [
      "C:\\ProgramData\\Anaconda3\\lib\\site-packages\\ipykernel\\ipkernel.py:287: DeprecationWarning: `should_run_async` will not call `transform_cell` automatically in the future. Please pass the result to `transformed_cell` argument and any exception that happen during thetransform in `preprocessing_exc_tuple` in IPython 7.17 and above.\n",
      "  and should_run_async(code)\n"
     ]
    }
   ],
   "source": [
    "X = X.drop(columns = life_col)\n",
    "X = X.drop(columns = ['phosphorus', 'carotene', 'mono_unsa_fat', 'n6_fat', 'kalium'])"
   ]
  },
  {
   "attachments": {},
   "cell_type": "markdown",
   "metadata": {
    "id": "C2qmApr3vxBe"
   },
   "source": [
    "## Training Set and Test Set"
   ]
  },
  {
   "cell_type": "code",
   "execution_count": 66,
   "metadata": {
    "id": "rUwf1uGPvxBe",
    "outputId": "f37c2d36-7185-4756-fabc-c92f26150fb1"
   },
   "outputs": [
    {
     "name": "stderr",
     "output_type": "stream",
     "text": [
      "C:\\ProgramData\\Anaconda3\\lib\\site-packages\\ipykernel\\ipkernel.py:287: DeprecationWarning: `should_run_async` will not call `transform_cell` automatically in the future. Please pass the result to `transformed_cell` argument and any exception that happen during thetransform in `preprocessing_exc_tuple` in IPython 7.17 and above.\n",
      "  and should_run_async(code)\n"
     ]
    }
   ],
   "source": [
    "from sklearn.model_selection import train_test_split\n",
    "X_train, X_test, y_train, y_test = train_test_split(X, y, test_size=0.2, random_state=123, stratify=y)"
   ]
  },
  {
   "attachments": {},
   "cell_type": "markdown",
   "metadata": {
    "id": "lHnr_p2G0mkB"
   },
   "source": [
    "## Class Weight"
   ]
  },
  {
   "cell_type": "code",
   "execution_count": 67,
   "metadata": {
    "id": "JbECiBfp0mkJ"
   },
   "outputs": [
    {
     "name": "stderr",
     "output_type": "stream",
     "text": [
      "C:\\ProgramData\\Anaconda3\\lib\\site-packages\\ipykernel\\ipkernel.py:287: DeprecationWarning: `should_run_async` will not call `transform_cell` automatically in the future. Please pass the result to `transformed_cell` argument and any exception that happen during thetransform in `preprocessing_exc_tuple` in IPython 7.17 and above.\n",
      "  and should_run_async(code)\n"
     ]
    }
   ],
   "source": [
    "class_weight = {1: 0.8128,\n",
    "                0: 0.1872}"
   ]
  },
  {
   "attachments": {},
   "cell_type": "markdown",
   "metadata": {
    "id": "BBzKNaIvvxBf"
   },
   "source": [
    "## 1st Model - Decison Tree"
   ]
  },
  {
   "cell_type": "code",
   "execution_count": 68,
   "metadata": {
    "id": "G2XMjBSJvxBg",
    "outputId": "f5ee04bf-201f-487c-8d41-80b245a32e00"
   },
   "outputs": [
    {
     "name": "stdout",
     "output_type": "stream",
     "text": [
      "학습 데이터 점수:  64.54\n",
      "평가 데이터 점수:  59.80\n"
     ]
    },
    {
     "name": "stderr",
     "output_type": "stream",
     "text": [
      "C:\\ProgramData\\Anaconda3\\lib\\site-packages\\ipykernel\\ipkernel.py:287: DeprecationWarning: `should_run_async` will not call `transform_cell` automatically in the future. Please pass the result to `transformed_cell` argument and any exception that happen during thetransform in `preprocessing_exc_tuple` in IPython 7.17 and above.\n",
      "  and should_run_async(code)\n",
      "C:\\Users\\82104\\AppData\\Roaming\\Python\\Python38\\site-packages\\sklearn\\tree\\_classes.py:269: FutureWarning: `max_features='auto'` has been deprecated in 1.1 and will be removed in 1.3. To keep the past behaviour, explicitly set `max_features='sqrt'`.\n",
      "  warnings.warn(\n"
     ]
    },
    {
     "data": {
      "image/png": "[encoded data removed]",
      "text/plain": [
       "<Figure size 216x216 with 1 Axes>"
      ]
     },
     "metadata": {
      "needs_background": "light"
     },
     "output_type": "display_data"
    },
    {
     "name": "stdout",
     "output_type": "stream",
     "text": [
      "정확도(accuracy):  0.60\n",
      "정밀도(precision):  0.20\n",
      "재현율(recall):  0.38\n",
      "F1 score:  0.26\n"
     ]
    }
   ],
   "source": [
    "dt = DecisionTreeClassifier(criterion=\"gini\", max_depth=6,  max_features=\"auto\", min_samples_leaf=2, min_samples_split=6, class_weight=class_weight, random_state=3)\n",
    "dt.fit(X_train, y_train)\n",
    "predict = dt.predict(X_test)\n",
    "\n",
    "train_score = dt.score(X_train, y_train)\n",
    "test_score = dt.score(X_test, y_test)\n",
    "print(\"학습 데이터 점수: {: .2f}\".format(train_score * 100))\n",
    "print(\"평가 데이터 점수: {: .2f}\".format(test_score * 100))\n",
    "\n",
    "# Confusion Matrix\n",
    "confmat = confusion_matrix(y_true=y_test, y_pred=predict)\n",
    "\n",
    "fig, ax = plt.subplots(figsize=(3,3))\n",
    "ax.matshow(confmat, cmap=plt.cm.Blues, alpha=0.3)\n",
    "\n",
    "for i in range(confmat.shape[0]):\n",
    "    for j in range(confmat.shape[1]):\n",
    "        ax.text(x=j, y=i, s=confmat[i, j], va='center', ha='center')\n",
    "        \n",
    "plt.xlabel('Prediction label')\n",
    "plt.ylabel('True label')\n",
    "plt.tight_layout()\n",
    "plt.show()\n",
    "\n",
    "accuracy = accuracy_score(y_test, predict)\n",
    "precision = precision_score(y_test, predict)\n",
    "recall = recall_score(y_test, predict)\n",
    "print(\"정확도(accuracy): {: .2f}\".format(accuracy))\n",
    "print(\"정밀도(precision): {: .2f}\".format(precision))\n",
    "print(\"재현율(recall): {: .2f}\".format(recall))\n",
    "\n",
    "f1 = f1_score(y_test, predict)\n",
    "print(\"F1 score: {: .2f}\".format(f1))"
   ]
  },
  {
   "attachments": {},
   "cell_type": "markdown",
   "metadata": {
    "id": "tFap-OiVvxBh"
   },
   "source": [
    "## 2nd Model - Regression"
   ]
  },
  {
   "cell_type": "code",
   "execution_count": 69,
   "metadata": {
    "id": "YBj8YFB6vxBh",
    "outputId": "786ce570-2296-4554-cdb7-2895e13a76fd"
   },
   "outputs": [
    {
     "name": "stdout",
     "output_type": "stream",
     "text": [
      "Train Set Accuracy:57.73195876288659\n",
      "Test Set Accuracy:56.055802155992396\n"
     ]
    },
    {
     "name": "stderr",
     "output_type": "stream",
     "text": [
      "C:\\ProgramData\\Anaconda3\\lib\\site-packages\\ipykernel\\ipkernel.py:287: DeprecationWarning: `should_run_async` will not call `transform_cell` automatically in the future. Please pass the result to `transformed_cell` argument and any exception that happen during thetransform in `preprocessing_exc_tuple` in IPython 7.17 and above.\n",
      "  and should_run_async(code)\n",
      "C:\\Users\\82104\\AppData\\Roaming\\Python\\Python38\\site-packages\\sklearn\\linear_model\\_logistic.py:458: ConvergenceWarning: lbfgs failed to converge (status=1):\n",
      "STOP: TOTAL NO. of ITERATIONS REACHED LIMIT.\n",
      "\n",
      "Increase the number of iterations (max_iter) or scale the data as shown in:\n",
      "    https://scikit-learn.org/stable/modules/preprocessing.html\n",
      "Please also refer to the documentation for alternative solver options:\n",
      "    https://scikit-learn.org/stable/modules/linear_model.html#logistic-regression\n",
      "  n_iter_i = _check_optimize_result(\n"
     ]
    }
   ],
   "source": [
    "from sklearn.linear_model import LogisticRegression\n",
    "log_reg = LogisticRegression(C=1,penalty='l2',class_weight=class_weight)\n",
    "log_reg.fit(X_train,y_train)\n",
    "\n",
    "log_acc=accuracy_score(y_test,log_reg.predict(X_test))\n",
    "predict = log_reg.predict(X_test)\n",
    "\n",
    "print(\"Train Set Accuracy:\"+str(accuracy_score(y_train,log_reg.predict(X_train))*100))\n",
    "print(\"Test Set Accuracy:\"+str(accuracy_score(y_test,log_reg.predict(X_test))*100))"
   ]
  },
  {
   "cell_type": "code",
   "execution_count": 70,
   "metadata": {
    "id": "IXtwL1ApvxBi",
    "outputId": "ebdf8272-42f0-4487-974b-5c7d213c64da"
   },
   "outputs": [
    {
     "name": "stderr",
     "output_type": "stream",
     "text": [
      "C:\\ProgramData\\Anaconda3\\lib\\site-packages\\ipykernel\\ipkernel.py:287: DeprecationWarning: `should_run_async` will not call `transform_cell` automatically in the future. Please pass the result to `transformed_cell` argument and any exception that happen during thetransform in `preprocessing_exc_tuple` in IPython 7.17 and above.\n",
      "  and should_run_async(code)\n"
     ]
    },
    {
     "data": {
      "image/png": "[encoded data removed]",
      "text/plain": [
       "<Figure size 216x216 with 1 Axes>"
      ]
     },
     "metadata": {
      "needs_background": "light"
     },
     "output_type": "display_data"
    },
    {
     "name": "stdout",
     "output_type": "stream",
     "text": [
      "정확도(accuracy):  0.56\n",
      "정밀도(precision):  0.23\n",
      "재현율(recall):  0.58\n",
      "F1 score:  0.33\n"
     ]
    }
   ],
   "source": [
    "# Confusion Matrix\n",
    "confmat = confusion_matrix(y_true=y_test, y_pred=predict)\n",
    "\n",
    "fig, ax = plt.subplots(figsize=(3,3))\n",
    "ax.matshow(confmat, cmap=plt.cm.Blues, alpha=0.3)\n",
    "\n",
    "for i in range(confmat.shape[0]):\n",
    "    for j in range(confmat.shape[1]):\n",
    "        ax.text(x=j, y=i, s=confmat[i, j], va='center', ha='center')\n",
    "        \n",
    "plt.xlabel('Prediction label')\n",
    "plt.ylabel('True label')\n",
    "plt.tight_layout()\n",
    "plt.show()\n",
    "\n",
    "accuracy = accuracy_score(y_test, predict)\n",
    "precision = precision_score(y_test, predict)\n",
    "recall = recall_score(y_test, predict)\n",
    "print(\"정확도(accuracy): {: .2f}\".format(accuracy))\n",
    "print(\"정밀도(precision): {: .2f}\".format(precision))\n",
    "print(\"재현율(recall): {: .2f}\".format(recall))\n",
    "\n",
    "f1 = f1_score(y_test, predict)\n",
    "print(\"F1 score: {: .2f}\".format(f1))"
   ]
  },
  {
   "attachments": {},
   "cell_type": "markdown",
   "metadata": {
    "id": "gSrDrJ_bvxBi"
   },
   "source": [
    "## 3rd Model - SVC"
   ]
  },
  {
   "cell_type": "code",
   "execution_count": 71,
   "metadata": {
    "id": "JntC7RQAvxBj"
   },
   "outputs": [
    {
     "name": "stderr",
     "output_type": "stream",
     "text": [
      "C:\\ProgramData\\Anaconda3\\lib\\site-packages\\ipykernel\\ipkernel.py:287: DeprecationWarning: `should_run_async` will not call `transform_cell` automatically in the future. Please pass the result to `transformed_cell` argument and any exception that happen during thetransform in `preprocessing_exc_tuple` in IPython 7.17 and above.\n",
      "  and should_run_async(code)\n"
     ]
    },
    {
     "name": "stdout",
     "output_type": "stream",
     "text": [
      "학습 데이터 점수:  58.41\n",
      "평가 데이터 점수:  58.08\n"
     ]
    }
   ],
   "source": [
    "svc = SVC(kernel='linear',class_weight=class_weight)\n",
    "svc.fit(X_train, y_train)\n",
    "predict = svc.predict(X_test)\n",
    "\n",
    "train_score = svc.score(X_train, y_train)\n",
    "test_score = svc.score(X_test, y_test)\n",
    "print(\"학습 데이터 점수: {: .2f}\".format(train_score * 100))\n",
    "print(\"평가 데이터 점수: {: .2f}\".format(test_score * 100))"
   ]
  },
  {
   "cell_type": "code",
   "execution_count": 72,
   "metadata": {
    "id": "eV789Pw-vxBj"
   },
   "outputs": [
    {
     "name": "stderr",
     "output_type": "stream",
     "text": [
      "C:\\ProgramData\\Anaconda3\\lib\\site-packages\\ipykernel\\ipkernel.py:287: DeprecationWarning: `should_run_async` will not call `transform_cell` automatically in the future. Please pass the result to `transformed_cell` argument and any exception that happen during thetransform in `preprocessing_exc_tuple` in IPython 7.17 and above.\n",
      "  and should_run_async(code)\n"
     ]
    },
    {
     "data": {
      "image/png": "[encoded data removed]",
      "text/plain": [
       "<Figure size 216x216 with 1 Axes>"
      ]
     },
     "metadata": {
      "needs_background": "light"
     },
     "output_type": "display_data"
    },
    {
     "name": "stdout",
     "output_type": "stream",
     "text": [
      "정확도(accuracy):  0.58\n",
      "정밀도(precision):  0.23\n",
      "재현율(recall):  0.54\n",
      "F1 score:  0.32\n"
     ]
    }
   ],
   "source": [
    "# Confusion Matrix\n",
    "confmat = confusion_matrix(y_true=y_test, y_pred=predict)\n",
    "\n",
    "fig, ax = plt.subplots(figsize=(3,3))\n",
    "ax.matshow(confmat, cmap=plt.cm.Blues, alpha=0.3)\n",
    "\n",
    "for i in range(confmat.shape[0]):\n",
    "    for j in range(confmat.shape[1]):\n",
    "        ax.text(x=j, y=i, s=confmat[i, j], va='center', ha='center')\n",
    "        \n",
    "plt.xlabel('Prediction label')\n",
    "plt.ylabel('True label')\n",
    "plt.tight_layout()\n",
    "plt.show()\n",
    "\n",
    "accuracy = accuracy_score(y_test, predict)\n",
    "precision = precision_score(y_test, predict)\n",
    "recall = recall_score(y_test, predict)\n",
    "print(\"정확도(accuracy): {: .2f}\".format(accuracy))\n",
    "print(\"정밀도(precision): {: .2f}\".format(precision))\n",
    "print(\"재현율(recall): {: .2f}\".format(recall))\n",
    "\n",
    "f1 = f1_score(y_test, predict)\n",
    "print(\"F1 score: {: .2f}\".format(f1))"
   ]
  },
  {
   "attachments": {},
   "cell_type": "markdown",
   "metadata": {
    "id": "iCqqEW93vxBk"
   },
   "source": [
    "# 3. Nutrients Modeling By Standardization"
   ]
  },
  {
   "attachments": {},
   "cell_type": "markdown",
   "metadata": {
    "id": "Po02wNQAwGFp"
   },
   "source": [
    "## Dataset Load"
   ]
  },
  {
   "cell_type": "code",
   "execution_count": 73,
   "metadata": {
    "id": "XtFgp1MtwGFq",
    "outputId": "2ae353b6-bb1f-41e5-faf5-92fca93f1b03"
   },
   "outputs": [
    {
     "name": "stderr",
     "output_type": "stream",
     "text": [
      "C:\\ProgramData\\Anaconda3\\lib\\site-packages\\ipykernel\\ipkernel.py:287: DeprecationWarning: `should_run_async` will not call `transform_cell` automatically in the future. Please pass the result to `transformed_cell` argument and any exception that happen during thetransform in `preprocessing_exc_tuple` in IPython 7.17 and above.\n",
      "  and should_run_async(code)\n"
     ]
    }
   ],
   "source": [
    "df = pd.read_csv('new_dataset.csv')"
   ]
  },
  {
   "attachments": {},
   "cell_type": "markdown",
   "metadata": {
    "id": "SSPXf79OwGFq"
   },
   "source": [
    "## Preprocessing"
   ]
  },
  {
   "cell_type": "code",
   "execution_count": 74,
   "metadata": {
    "id": "Ymu8azmMwGFr",
    "outputId": "8252d395-8af6-4d06-9620-247ad3c8a40a"
   },
   "outputs": [
    {
     "name": "stderr",
     "output_type": "stream",
     "text": [
      "C:\\ProgramData\\Anaconda3\\lib\\site-packages\\ipykernel\\ipkernel.py:287: DeprecationWarning: `should_run_async` will not call `transform_cell` automatically in the future. Please pass the result to `transformed_cell` argument and any exception that happen during thetransform in `preprocessing_exc_tuple` in IPython 7.17 and above.\n",
      "  and should_run_async(code)\n"
     ]
    }
   ],
   "source": [
    "df.drop('Unnamed: 0', axis=1, inplace=True)\n",
    "df = df.rename(columns={\"alchol\":\"alcohol\"})"
   ]
  },
  {
   "cell_type": "code",
   "execution_count": 75,
   "metadata": {
    "id": "aLa_mgBIwJV1"
   },
   "outputs": [
    {
     "name": "stderr",
     "output_type": "stream",
     "text": [
      "C:\\ProgramData\\Anaconda3\\lib\\site-packages\\ipykernel\\ipkernel.py:287: DeprecationWarning: `should_run_async` will not call `transform_cell` automatically in the future. Please pass the result to `transformed_cell` argument and any exception that happen during thetransform in `preprocessing_exc_tuple` in IPython 7.17 and above.\n",
      "  and should_run_async(code)\n"
     ]
    }
   ],
   "source": [
    "df['smoke'] = df['smoke'].apply(lambda x: 2 if x >= 10 else (1 if x >= 1 else 0))"
   ]
  },
  {
   "attachments": {},
   "cell_type": "markdown",
   "metadata": {
    "id": "Jl99ltUdwGFr"
   },
   "source": [
    "##  Wrapper Approach"
   ]
  },
  {
   "cell_type": "code",
   "execution_count": 76,
   "metadata": {
    "id": "UWFeWU1owGFs",
    "outputId": "e00978da-4eaa-4c67-83d1-f8298a5324b9"
   },
   "outputs": [
    {
     "name": "stderr",
     "output_type": "stream",
     "text": [
      "C:\\ProgramData\\Anaconda3\\lib\\site-packages\\ipykernel\\ipkernel.py:287: DeprecationWarning: `should_run_async` will not call `transform_cell` automatically in the future. Please pass the result to `transformed_cell` argument and any exception that happen during thetransform in `preprocessing_exc_tuple` in IPython 7.17 and above.\n",
      "  and should_run_async(code)\n"
     ]
    },
    {
     "data": {
      "text/plain": [
       "\"\\ncor_feature = ['phosphorus', 'carotene' , 'sa_fat', 'mono_unsa_fat', 'n6_fat','kalium','vitamin_b3']\\ncor_size = len(cor_feature)\\ncor_pow = []\\nfor i in range(2**cor_size):\\n    flag = bin(i)[2:].zfill(cor_size)\\n    subset = [cor_feature[j] for j in range(cor_size) if flag[j] == '1']\\n    cor_pow.append(subset)\\n    \""
      ]
     },
     "execution_count": 76,
     "metadata": {},
     "output_type": "execute_result"
    }
   ],
   "source": [
    "'''\n",
    "cor_feature = ['phosphorus', 'carotene' , 'sa_fat', 'mono_unsa_fat', 'n6_fat','kalium','vitamin_b3']\n",
    "cor_size = len(cor_feature)\n",
    "cor_pow = []\n",
    "for i in range(2**cor_size):\n",
    "    flag = bin(i)[2:].zfill(cor_size)\n",
    "    subset = [cor_feature[j] for j in range(cor_size) if flag[j] == '1']\n",
    "    cor_pow.append(subset)\n",
    "    '''"
   ]
  },
  {
   "cell_type": "code",
   "execution_count": 77,
   "metadata": {
    "id": "FTPKXVuFwGFs",
    "outputId": "74bb9ceb-e552-4715-e5cf-2f5962c3c0ad"
   },
   "outputs": [
    {
     "name": "stderr",
     "output_type": "stream",
     "text": [
      "C:\\ProgramData\\Anaconda3\\lib\\site-packages\\ipykernel\\ipkernel.py:287: DeprecationWarning: `should_run_async` will not call `transform_cell` automatically in the future. Please pass the result to `transformed_cell` argument and any exception that happen during thetransform in `preprocessing_exc_tuple` in IPython 7.17 and above.\n",
      "  and should_run_async(code)\n"
     ]
    },
    {
     "data": {
      "text/plain": [
       "\"\\nmax_string = ''\\nmax_num = 0;\\nfor i in cor_pow:\\n    new_x_train = X_train.drop(columns=i)\\n    new_x_test = X_test.drop(columns=i)\\n    log_reg = LogisticRegression(C=1,penalty='l2', class_weight=class_weight)\\n    log_reg.fit(new_x_train,y_train)\\n    log_acc=accuracy_score(y_test,log_reg.predict(new_x_test))\\n    predict = log_reg.predict(new_x_test)\\n    score = accuracy_score(y_test,log_reg.predict(new_x_test))*100\\n    if(max_num <= score):\\n        max_string = i\\n        max_num = score\\nprint(max_string, max_num)\\n\""
      ]
     },
     "execution_count": 77,
     "metadata": {},
     "output_type": "execute_result"
    }
   ],
   "source": [
    "'''\n",
    "max_string = ''\n",
    "max_num = 0;\n",
    "for i in cor_pow:\n",
    "    new_x_train = X_train.drop(columns=i)\n",
    "    new_x_test = X_test.drop(columns=i)\n",
    "    log_reg = LogisticRegression(C=1,penalty='l2', class_weight=class_weight)\n",
    "    log_reg.fit(new_x_train,y_train)\n",
    "    log_acc=accuracy_score(y_test,log_reg.predict(new_x_test))\n",
    "    predict = log_reg.predict(new_x_test)\n",
    "    score = accuracy_score(y_test,log_reg.predict(new_x_test))*100\n",
    "    if(max_num <= score):\n",
    "        max_string = i\n",
    "        max_num = score\n",
    "print(max_string, max_num)\n",
    "'''"
   ]
  },
  {
   "attachments": {},
   "cell_type": "markdown",
   "metadata": {
    "id": "8UC9FJLTxqYY"
   },
   "source": [
    "## 이상치 제거"
   ]
  },
  {
   "cell_type": "code",
   "execution_count": 78,
   "metadata": {
    "id": "q_6hG6RZHqy1"
   },
   "outputs": [
    {
     "name": "stderr",
     "output_type": "stream",
     "text": [
      "C:\\ProgramData\\Anaconda3\\lib\\site-packages\\ipykernel\\ipkernel.py:287: DeprecationWarning: `should_run_async` will not call `transform_cell` automatically in the future. Please pass the result to `transformed_cell` argument and any exception that happen during thetransform in `preprocessing_exc_tuple` in IPython 7.17 and above.\n",
      "  and should_run_async(code)\n"
     ]
    }
   ],
   "source": [
    "def remove_outlier(dataframe, columns):\n",
    "    df = dataframe\n",
    "    for col in columns:\n",
    "        q1 = df[col].quantile(0.25) # 1분위수 (25%)\n",
    "        q3 = df[col].quantile(0.75) # 3분위수 (75%)\n",
    "        IQR = q3 - q1\n",
    "        z = 3 # 1.5? 3?\n",
    "        df = df[(df[col] <= q3 + z * IQR) & (df[col] >= q1 - z * IQR)]\n",
    "        df = df.reset_index(drop=True)\n",
    "    return df"
   ]
  },
  {
   "cell_type": "code",
   "execution_count": 79,
   "metadata": {
    "id": "_HBX7szSwJV7"
   },
   "outputs": [
    {
     "name": "stderr",
     "output_type": "stream",
     "text": [
      "C:\\ProgramData\\Anaconda3\\lib\\site-packages\\ipykernel\\ipkernel.py:287: DeprecationWarning: `should_run_async` will not call `transform_cell` automatically in the future. Please pass the result to `transformed_cell` argument and any exception that happen during thetransform in `preprocessing_exc_tuple` in IPython 7.17 and above.\n",
      "  and should_run_async(code)\n"
     ]
    }
   ],
   "source": [
    "df = remove_outlier(df, nutri_col)"
   ]
  },
  {
   "cell_type": "code",
   "execution_count": 80,
   "metadata": {
    "id": "hX-8Y8ZjvxBk"
   },
   "outputs": [
    {
     "name": "stderr",
     "output_type": "stream",
     "text": [
      "C:\\ProgramData\\Anaconda3\\lib\\site-packages\\ipykernel\\ipkernel.py:287: DeprecationWarning: `should_run_async` will not call `transform_cell` automatically in the future. Please pass the result to `transformed_cell` argument and any exception that happen during thetransform in `preprocessing_exc_tuple` in IPython 7.17 and above.\n",
      "  and should_run_async(code)\n"
     ]
    }
   ],
   "source": [
    "X = df.drop(columns=meta_col)\n",
    "X = X.drop(columns=life_col)\n",
    "y = df['metabolic'] # target"
   ]
  },
  {
   "attachments": {},
   "cell_type": "markdown",
   "metadata": {
    "id": "3wRnAbo02ITO"
   },
   "source": [
    "## Feature Scaling\n",
    "\n"
   ]
  },
  {
   "cell_type": "code",
   "execution_count": 81,
   "metadata": {
    "id": "RpRTYW2W2QKw"
   },
   "outputs": [
    {
     "name": "stderr",
     "output_type": "stream",
     "text": [
      "C:\\ProgramData\\Anaconda3\\lib\\site-packages\\ipykernel\\ipkernel.py:287: DeprecationWarning: `should_run_async` will not call `transform_cell` automatically in the future. Please pass the result to `transformed_cell` argument and any exception that happen during thetransform in `preprocessing_exc_tuple` in IPython 7.17 and above.\n",
      "  and should_run_async(code)\n"
     ]
    }
   ],
   "source": [
    "from sklearn.preprocessing import StandardScaler, MinMaxScaler"
   ]
  },
  {
   "cell_type": "code",
   "execution_count": 82,
   "metadata": {
    "id": "Jhp9JgMvwJV9"
   },
   "outputs": [
    {
     "name": "stderr",
     "output_type": "stream",
     "text": [
      "C:\\ProgramData\\Anaconda3\\lib\\site-packages\\ipykernel\\ipkernel.py:287: DeprecationWarning: `should_run_async` will not call `transform_cell` automatically in the future. Please pass the result to `transformed_cell` argument and any exception that happen during thetransform in `preprocessing_exc_tuple` in IPython 7.17 and above.\n",
      "  and should_run_async(code)\n"
     ]
    }
   ],
   "source": [
    "# 표준화\n",
    "scaler = StandardScaler()\n",
    "std_scale = StandardScaler().fit(X[nutri_col])\n",
    "std = std_scale.transform(X[nutri_col])\n",
    "std = pd.DataFrame(std, columns=nutri_col, index=list(df.index.values))"
   ]
  },
  {
   "attachments": {},
   "cell_type": "markdown",
   "metadata": {
    "id": "E9UcVc9IyaXi"
   },
   "source": [
    "## Training Set and Test set"
   ]
  },
  {
   "cell_type": "code",
   "execution_count": 83,
   "metadata": {
    "id": "0jMgbbojwJV-"
   },
   "outputs": [
    {
     "name": "stderr",
     "output_type": "stream",
     "text": [
      "C:\\ProgramData\\Anaconda3\\lib\\site-packages\\ipykernel\\ipkernel.py:287: DeprecationWarning: `should_run_async` will not call `transform_cell` automatically in the future. Please pass the result to `transformed_cell` argument and any exception that happen during thetransform in `preprocessing_exc_tuple` in IPython 7.17 and above.\n",
      "  and should_run_async(code)\n"
     ]
    }
   ],
   "source": [
    "X = X.drop(columns = nutri_col)"
   ]
  },
  {
   "cell_type": "code",
   "execution_count": 84,
   "metadata": {
    "id": "ZF1POB0HwJV_"
   },
   "outputs": [
    {
     "name": "stderr",
     "output_type": "stream",
     "text": [
      "C:\\ProgramData\\Anaconda3\\lib\\site-packages\\ipykernel\\ipkernel.py:287: DeprecationWarning: `should_run_async` will not call `transform_cell` automatically in the future. Please pass the result to `transformed_cell` argument and any exception that happen during thetransform in `preprocessing_exc_tuple` in IPython 7.17 and above.\n",
      "  and should_run_async(code)\n"
     ]
    }
   ],
   "source": [
    "X = pd.concat([X,std], axis= 1)"
   ]
  },
  {
   "cell_type": "code",
   "execution_count": 85,
   "metadata": {
    "id": "b_f818G-wJV_",
    "outputId": "78cc76e1-2def-48b0-dea7-83f746c0f379"
   },
   "outputs": [
    {
     "name": "stderr",
     "output_type": "stream",
     "text": [
      "C:\\ProgramData\\Anaconda3\\lib\\site-packages\\ipykernel\\ipkernel.py:287: DeprecationWarning: `should_run_async` will not call `transform_cell` automatically in the future. Please pass the result to `transformed_cell` argument and any exception that happen during thetransform in `preprocessing_exc_tuple` in IPython 7.17 and above.\n",
      "  and should_run_async(code)\n"
     ]
    }
   ],
   "source": [
    "X = X.drop(columns = ['carotene', 'n6_fat']) # 상관관계가 높은 column은 모두 제외"
   ]
  },
  {
   "cell_type": "code",
   "execution_count": 86,
   "metadata": {
    "id": "9RyiGm9KycVe"
   },
   "outputs": [
    {
     "name": "stderr",
     "output_type": "stream",
     "text": [
      "C:\\ProgramData\\Anaconda3\\lib\\site-packages\\ipykernel\\ipkernel.py:287: DeprecationWarning: `should_run_async` will not call `transform_cell` automatically in the future. Please pass the result to `transformed_cell` argument and any exception that happen during thetransform in `preprocessing_exc_tuple` in IPython 7.17 and above.\n",
      "  and should_run_async(code)\n"
     ]
    }
   ],
   "source": [
    "X_train, X_test, y_train, y_test = train_test_split(X, y, test_size=0.2, random_state=123, stratify=y)"
   ]
  },
  {
   "attachments": {},
   "cell_type": "markdown",
   "metadata": {
    "id": "evvjaVDT0fjV"
   },
   "source": [
    "## Class Weight"
   ]
  },
  {
   "cell_type": "code",
   "execution_count": 87,
   "metadata": {
    "id": "Gc7s8Sop0erG"
   },
   "outputs": [
    {
     "name": "stderr",
     "output_type": "stream",
     "text": [
      "C:\\ProgramData\\Anaconda3\\lib\\site-packages\\ipykernel\\ipkernel.py:287: DeprecationWarning: `should_run_async` will not call `transform_cell` automatically in the future. Please pass the result to `transformed_cell` argument and any exception that happen during thetransform in `preprocessing_exc_tuple` in IPython 7.17 and above.\n",
      "  and should_run_async(code)\n"
     ]
    }
   ],
   "source": [
    "class_weight = {1: 0.8128,\n",
    "                0: 0.1872}"
   ]
  },
  {
   "attachments": {},
   "cell_type": "markdown",
   "metadata": {
    "id": "On1Fil0gzsDX"
   },
   "source": [
    "## 1st Model - Decison Tree"
   ]
  },
  {
   "cell_type": "code",
   "execution_count": 88,
   "metadata": {
    "id": "TisIKvIuzsDi",
    "outputId": "f5ee04bf-201f-487c-8d41-80b245a32e00"
   },
   "outputs": [
    {
     "name": "stdout",
     "output_type": "stream",
     "text": [
      "학습 데이터 점수:  63.82\n",
      "평가 데이터 점수:  58.68\n"
     ]
    },
    {
     "name": "stderr",
     "output_type": "stream",
     "text": [
      "C:\\ProgramData\\Anaconda3\\lib\\site-packages\\ipykernel\\ipkernel.py:287: DeprecationWarning: `should_run_async` will not call `transform_cell` automatically in the future. Please pass the result to `transformed_cell` argument and any exception that happen during thetransform in `preprocessing_exc_tuple` in IPython 7.17 and above.\n",
      "  and should_run_async(code)\n",
      "C:\\Users\\82104\\AppData\\Roaming\\Python\\Python38\\site-packages\\sklearn\\tree\\_classes.py:269: FutureWarning: `max_features='auto'` has been deprecated in 1.1 and will be removed in 1.3. To keep the past behaviour, explicitly set `max_features='sqrt'`.\n",
      "  warnings.warn(\n"
     ]
    },
    {
     "data": {
      "image/png": "[encoded data removed]",
      "text/plain": [
       "<Figure size 216x216 with 1 Axes>"
      ]
     },
     "metadata": {
      "needs_background": "light"
     },
     "output_type": "display_data"
    },
    {
     "name": "stdout",
     "output_type": "stream",
     "text": [
      "정확도(accuracy):  0.59\n",
      "정밀도(precision):  0.21\n",
      "재현율(recall):  0.49\n",
      "F1 score:  0.30\n"
     ]
    }
   ],
   "source": [
    "dt = DecisionTreeClassifier(criterion=\"gini\", max_depth=6,  max_features=\"auto\", min_samples_leaf=2, min_samples_split=6, class_weight=class_weight)\n",
    "dt.fit(X_train, y_train)\n",
    "predict = dt.predict(X_test)\n",
    "\n",
    "train_score = dt.score(X_train, y_train)\n",
    "test_score = dt.score(X_test, y_test)\n",
    "print(\"학습 데이터 점수: {: .2f}\".format(train_score * 100))\n",
    "print(\"평가 데이터 점수: {: .2f}\".format(test_score * 100))\n",
    "\n",
    "# Confusion Matrix\n",
    "confmat = confusion_matrix(y_true=y_test, y_pred=predict)\n",
    "\n",
    "fig, ax = plt.subplots(figsize=(3,3))\n",
    "ax.matshow(confmat, cmap=plt.cm.Blues, alpha=0.3)\n",
    "\n",
    "for i in range(confmat.shape[0]):\n",
    "    for j in range(confmat.shape[1]):\n",
    "        ax.text(x=j, y=i, s=confmat[i, j], va='center', ha='center')\n",
    "        \n",
    "plt.xlabel('Prediction label')\n",
    "plt.ylabel('True label')\n",
    "plt.tight_layout()\n",
    "plt.show()\n",
    "\n",
    "accuracy = accuracy_score(y_test, predict)\n",
    "precision = precision_score(y_test, predict)\n",
    "recall = recall_score(y_test, predict)\n",
    "print(\"정확도(accuracy): {: .2f}\".format(accuracy))\n",
    "print(\"정밀도(precision): {: .2f}\".format(precision))\n",
    "print(\"재현율(recall): {: .2f}\".format(recall))\n",
    "\n",
    "f1 = f1_score(y_test, predict)\n",
    "print(\"F1 score: {: .2f}\".format(f1))"
   ]
  },
  {
   "attachments": {},
   "cell_type": "markdown",
   "metadata": {
    "id": "9m76FX1zzsDi"
   },
   "source": [
    "## 2nd Model - Regression"
   ]
  },
  {
   "cell_type": "code",
   "execution_count": 89,
   "metadata": {
    "id": "BG0UHtB2zsDj",
    "outputId": "786ce570-2296-4554-cdb7-2895e13a76fd"
   },
   "outputs": [
    {
     "name": "stdout",
     "output_type": "stream",
     "text": [
      "Train Set Accuracy:60.98837209302326\n",
      "Test Set Accuracy:59.30232558139535\n"
     ]
    },
    {
     "name": "stderr",
     "output_type": "stream",
     "text": [
      "C:\\ProgramData\\Anaconda3\\lib\\site-packages\\ipykernel\\ipkernel.py:287: DeprecationWarning: `should_run_async` will not call `transform_cell` automatically in the future. Please pass the result to `transformed_cell` argument and any exception that happen during thetransform in `preprocessing_exc_tuple` in IPython 7.17 and above.\n",
      "  and should_run_async(code)\n",
      "C:\\Users\\82104\\AppData\\Roaming\\Python\\Python38\\site-packages\\sklearn\\linear_model\\_logistic.py:458: ConvergenceWarning: lbfgs failed to converge (status=1):\n",
      "STOP: TOTAL NO. of ITERATIONS REACHED LIMIT.\n",
      "\n",
      "Increase the number of iterations (max_iter) or scale the data as shown in:\n",
      "    https://scikit-learn.org/stable/modules/preprocessing.html\n",
      "Please also refer to the documentation for alternative solver options:\n",
      "    https://scikit-learn.org/stable/modules/linear_model.html#logistic-regression\n",
      "  n_iter_i = _check_optimize_result(\n"
     ]
    }
   ],
   "source": [
    "from sklearn.linear_model import LogisticRegression\n",
    "log_reg = LogisticRegression(C=1,penalty='l2',class_weight=class_weight)\n",
    "log_reg.fit(X_train,y_train)\n",
    "\n",
    "log_acc=accuracy_score(y_test,log_reg.predict(X_test))\n",
    "predict = log_reg.predict(X_test)\n",
    "\n",
    "print(\"Train Set Accuracy:\"+str(accuracy_score(y_train,log_reg.predict(X_train))*100))\n",
    "print(\"Test Set Accuracy:\"+str(accuracy_score(y_test,log_reg.predict(X_test))*100))"
   ]
  },
  {
   "cell_type": "code",
   "execution_count": 90,
   "metadata": {
    "id": "Qb2p1RKBzsDj",
    "outputId": "ebdf8272-42f0-4487-974b-5c7d213c64da"
   },
   "outputs": [
    {
     "name": "stderr",
     "output_type": "stream",
     "text": [
      "C:\\ProgramData\\Anaconda3\\lib\\site-packages\\ipykernel\\ipkernel.py:287: DeprecationWarning: `should_run_async` will not call `transform_cell` automatically in the future. Please pass the result to `transformed_cell` argument and any exception that happen during thetransform in `preprocessing_exc_tuple` in IPython 7.17 and above.\n",
      "  and should_run_async(code)\n"
     ]
    },
    {
     "data": {
      "image/png": "[encoded data removed]",
      "text/plain": [
       "<Figure size 216x216 with 1 Axes>"
      ]
     },
     "metadata": {
      "needs_background": "light"
     },
     "output_type": "display_data"
    },
    {
     "name": "stdout",
     "output_type": "stream",
     "text": [
      "정확도(accuracy):  0.59\n",
      "정밀도(precision):  0.22\n",
      "재현율(recall):  0.52\n",
      "F1 score:  0.31\n"
     ]
    }
   ],
   "source": [
    "# Confusion Matrix\n",
    "confmat = confusion_matrix(y_true=y_test, y_pred=predict)\n",
    "\n",
    "fig, ax = plt.subplots(figsize=(3,3))\n",
    "ax.matshow(confmat, cmap=plt.cm.Blues, alpha=0.3)\n",
    "\n",
    "for i in range(confmat.shape[0]):\n",
    "    for j in range(confmat.shape[1]):\n",
    "        ax.text(x=j, y=i, s=confmat[i, j], va='center', ha='center')\n",
    "        \n",
    "plt.xlabel('Prediction label')\n",
    "plt.ylabel('True label')\n",
    "plt.tight_layout()\n",
    "plt.show()\n",
    "\n",
    "accuracy = accuracy_score(y_test, predict)\n",
    "precision = precision_score(y_test, predict)\n",
    "recall = recall_score(y_test, predict)\n",
    "print(\"정확도(accuracy): {: .2f}\".format(accuracy))\n",
    "print(\"정밀도(precision): {: .2f}\".format(precision))\n",
    "print(\"재현율(recall): {: .2f}\".format(recall))\n",
    "\n",
    "f1 = f1_score(y_test, predict)\n",
    "print(\"F1 score: {: .2f}\".format(f1))"
   ]
  },
  {
   "attachments": {},
   "cell_type": "markdown",
   "metadata": {
    "id": "pyGpOR3nzsDj"
   },
   "source": [
    "## 3rd Model - SVC"
   ]
  },
  {
   "cell_type": "code",
   "execution_count": 91,
   "metadata": {
    "id": "6I6FzPYkzsDk"
   },
   "outputs": [
    {
     "name": "stderr",
     "output_type": "stream",
     "text": [
      "C:\\ProgramData\\Anaconda3\\lib\\site-packages\\ipykernel\\ipkernel.py:287: DeprecationWarning: `should_run_async` will not call `transform_cell` automatically in the future. Please pass the result to `transformed_cell` argument and any exception that happen during thetransform in `preprocessing_exc_tuple` in IPython 7.17 and above.\n",
      "  and should_run_async(code)\n"
     ]
    },
    {
     "name": "stdout",
     "output_type": "stream",
     "text": [
      "학습 데이터 점수:  62.31\n",
      "평가 데이터 점수:  60.39\n"
     ]
    }
   ],
   "source": [
    "svc = SVC(kernel='linear',class_weight=class_weight)\n",
    "svc.fit(X_train, y_train)\n",
    "predict = svc.predict(X_test)\n",
    "\n",
    "train_score = svc.score(X_train, y_train)\n",
    "test_score = svc.score(X_test, y_test)\n",
    "print(\"학습 데이터 점수: {: .2f}\".format(train_score * 100))\n",
    "print(\"평가 데이터 점수: {: .2f}\".format(test_score * 100))"
   ]
  },
  {
   "cell_type": "code",
   "execution_count": 92,
   "metadata": {
    "id": "9mYGak_QzsDk"
   },
   "outputs": [
    {
     "name": "stderr",
     "output_type": "stream",
     "text": [
      "C:\\ProgramData\\Anaconda3\\lib\\site-packages\\ipykernel\\ipkernel.py:287: DeprecationWarning: `should_run_async` will not call `transform_cell` automatically in the future. Please pass the result to `transformed_cell` argument and any exception that happen during thetransform in `preprocessing_exc_tuple` in IPython 7.17 and above.\n",
      "  and should_run_async(code)\n"
     ]
    },
    {
     "data": {
      "image/png": "[encoded data removed]",
      "text/plain": [
       "<Figure size 216x216 with 1 Axes>"
      ]
     },
     "metadata": {
      "needs_background": "light"
     },
     "output_type": "display_data"
    },
    {
     "name": "stdout",
     "output_type": "stream",
     "text": [
      "정확도(accuracy):  0.60\n",
      "정밀도(precision):  0.23\n",
      "재현율(recall):  0.51\n",
      "F1 score:  0.31\n"
     ]
    }
   ],
   "source": [
    "# Confusion Matrix\n",
    "confmat = confusion_matrix(y_true=y_test, y_pred=predict)\n",
    "\n",
    "fig, ax = plt.subplots(figsize=(3,3))\n",
    "ax.matshow(confmat, cmap=plt.cm.Blues, alpha=0.3)\n",
    "\n",
    "for i in range(confmat.shape[0]):\n",
    "    for j in range(confmat.shape[1]):\n",
    "        ax.text(x=j, y=i, s=confmat[i, j], va='center', ha='center')\n",
    "        \n",
    "plt.xlabel('Prediction label')\n",
    "plt.ylabel('True label')\n",
    "plt.tight_layout()\n",
    "plt.show()\n",
    "\n",
    "accuracy = accuracy_score(y_test, predict)\n",
    "precision = precision_score(y_test, predict)\n",
    "recall = recall_score(y_test, predict)\n",
    "print(\"정확도(accuracy): {: .2f}\".format(accuracy))\n",
    "print(\"정밀도(precision): {: .2f}\".format(precision))\n",
    "print(\"재현율(recall): {: .2f}\".format(recall))\n",
    "\n",
    "f1 = f1_score(y_test, predict)\n",
    "print(\"F1 score: {: .2f}\".format(f1))"
   ]
  },
  {
   "cell_type": "code",
   "execution_count": null,
   "metadata": {},
   "outputs": [],
   "source": []
  }
 ],
 "metadata": {
  "colab": {
   "provenance": []
  },
  "kernelspec": {
   "display_name": "Python 3",
   "language": "python",
   "name": "python3"
  },
  "language_info": {
   "codemirror_mode": {
    "name": "ipython",
    "version": 3
   },
   "file_extension": ".py",
   "mimetype": "text/x-python",
   "name": "python",
   "nbconvert_exporter": "python",
   "pygments_lexer": "ipython3",
   "version": "3.8.5"
  }
 },
 "nbformat": 4,
 "nbformat_minor": 1
}
